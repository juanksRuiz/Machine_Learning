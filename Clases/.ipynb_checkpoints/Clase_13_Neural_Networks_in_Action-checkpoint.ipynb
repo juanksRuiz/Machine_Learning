{
 "cells": [
  {
   "cell_type": "markdown",
   "metadata": {},
   "source": [
    "# Clase 13: Neural Networks in Action\n",
    "\n",
    "En esta clase vamos a aprender a utilizar la libreria de keras para realizar implementaciones de redes neuronales. Utilizaremos un ejemplo de regresión y uno de clasificación, utilizando bases de datos que se encuentran en keras\n",
    "\n",
    "## Implementación de una red neuronal para clasificación.\n",
    "\n",
    "En este caso utilizaremos el problema de clasificación de digitos del 0 al 9."
   ]
  },
  {
   "cell_type": "code",
   "execution_count": 4,
   "metadata": {},
   "outputs": [
    {
     "name": "stdout",
     "output_type": "stream",
     "text": [
      "Downloading data from https://storage.googleapis.com/tensorflow/tf-keras-datasets/mnist.npz\n",
      "11493376/11490434 [==============================] - 3s 0us/step\n",
      "El tamaño de los datos de entrenamiento es: (60000, 28, 28)\n",
      "El tamaño de los labels de entrenamiento es: (60000,)\n",
      "El tamaño de los datos de prueba es: (10000, 28, 28)\n",
      "El tamaño de los labels de prueba es: (10000,)\n"
     ]
    }
   ],
   "source": [
    "from keras.datasets import mnist\n",
    "# Dividimos lso datos en entrenamiento y pureba\n",
    "(train_images, train_labels), (test_images, test_labels) = mnist.load_data()\n",
    "# Cantidad de datos\n",
    "print('El tamaño de los datos de entrenamiento es:', train_images.shape)\n",
    "print('El tamaño de los labels de entrenamiento es:', train_labels.shape)\n",
    "print('El tamaño de los datos de prueba es:', test_images.shape)\n",
    "print('El tamaño de los labels de prueba es:', test_labels.shape)"
   ]
  },
  {
   "cell_type": "markdown",
   "metadata": {},
   "source": [
    "Ahora observemos alguno de los numeros:"
   ]
  },
  {
   "cell_type": "code",
   "execution_count": 5,
   "metadata": {},
   "outputs": [
    {
     "data": {
      "text/plain": [
       "<function matplotlib.pyplot.show(*args, **kw)>"
      ]
     },
     "execution_count": 5,
     "metadata": {},
     "output_type": "execute_result"
    },
    {
     "data": {
      "image/png": "[encoded data removed]",
      "text/plain": [
       "<Figure size 432x288 with 1 Axes>"
      ]
     },
     "metadata": {
      "needs_background": "light"
     },
     "output_type": "display_data"
    }
   ],
   "source": [
    "digit = train_images[1]\n",
    "\n",
    "import matplotlib.pyplot as plt\n",
    "plt.imshow(digit, cmap=plt.cm.binary)\n",
    "plt.show"
   ]
  },
  {
   "cell_type": "markdown",
   "metadata": {},
   "source": [
    "Ahora creamos la arquitectura de la red. Esto se hace utilizando un modelo secuencial de capas."
   ]
  },
  {
   "cell_type": "code",
   "execution_count": 6,
   "metadata": {},
   "outputs": [],
   "source": [
    "# Inicializando los parametros de la red neuronal\n",
    "\n",
    "from keras import models\n",
    "from keras import layers\n",
    "\n",
    "network = models.Sequential()\n",
    "network.add(layers.Dense(512, activation='relu', input_shape=(28*28,)))\n",
    "network.add(layers.Dense(10,activation='relu'))\n",
    "network.compile(optimizer = 'rmsprop',\n",
    "                loss='categorical_crossentropy',\n",
    "               metrics=['accuracy'])"
   ]
  },
  {
   "cell_type": "markdown",
   "metadata": {},
   "source": [
    "Ahora preprocesamos lso datos par apoder ingresarlos al modelo:"
   ]
  },
  {
   "cell_type": "code",
   "execution_count": 7,
   "metadata": {},
   "outputs": [],
   "source": [
    "train_images = train_images.reshape((60000,28*28))\n",
    "train_images = train_images.astype('float32')/255\n",
    "\n",
    "test_images = test_images.reshape((10000,28*28))\n",
    "test_images = test_images.astype('float32')/255"
   ]
  },
  {
   "cell_type": "markdown",
   "metadata": {},
   "source": [
    "Ahora preparamos las etiquetas volviendolas variables categoricas:"
   ]
  },
  {
   "cell_type": "code",
   "execution_count": 8,
   "metadata": {},
   "outputs": [],
   "source": [
    "from keras.utils import to_categorical\n",
    "\n",
    "train_labels = to_categorical(train_labels)\n",
    "test_labels = to_categorical(test_labels)"
   ]
  },
  {
   "cell_type": "markdown",
   "metadata": {},
   "source": [
    "Ahora entrenamos la red:"
   ]
  },
  {
   "cell_type": "code",
   "execution_count": null,
   "metadata": {},
   "outputs": [
    {
     "name": "stdout",
     "output_type": "stream",
     "text": [
      "Epoch 1/7\n",
      "469/469 [==============================] - 8s 16ms/step - loss: 0.4372 - accuracy: 0.8848\n",
      "Epoch 2/7\n",
      "469/469 [==============================] - 8s 17ms/step - loss: 0.2344 - accuracy: 0.9318\n",
      "Epoch 3/7\n",
      "469/469 [==============================] - 8s 18ms/step - loss: 0.1784 - accuracy: 0.9474\n",
      "Epoch 4/7\n",
      "469/469 [==============================] - 8s 18ms/step - loss: 0.1412 - accuracy: 0.9590\n",
      "Epoch 5/7\n",
      "469/469 [==============================] - 8s 18ms/step - loss: 0.1153 - accuracy: 0.9657\n",
      "Epoch 6/7\n",
      "469/469 [==============================] - 8s 18ms/step - loss: 0.0964 - accuracy: 0.9717\n",
      "Epoch 7/7\n",
      "214/469 [============>.................] - ETA: 4s - loss: 0.0812 - accuracy: 0.9760"
     ]
    }
   ],
   "source": [
    "network.fit(train_images, train_labels, epochs=7, batch_size = 128)"
   ]
  },
  {
   "cell_type": "code",
   "execution_count": 71,
   "metadata": {},
   "outputs": [
    {
     "name": "stdout",
     "output_type": "stream",
     "text": [
      "313/313 [==============================] - 0s 544us/step - loss: 0.0934 - accuracy: 0.9717\n",
      "test_acc: 0.9717000126838684\n"
     ]
    }
   ],
   "source": [
    "test_loss, test_acc = network.evaluate(test_images, test_labels)\n",
    "print('test_acc:', test_acc)"
   ]
  },
  {
   "cell_type": "markdown",
   "metadata": {},
   "source": [
    "## Implementación de un ared Neuronal para Regresión\n",
    "\n",
    "Para este casa utilizaremos los datos del Boston Housing dataset."
   ]
  },
  {
   "cell_type": "code",
   "execution_count": 73,
   "metadata": {},
   "outputs": [
    {
     "name": "stdout",
     "output_type": "stream",
     "text": [
      "Downloading data from https://storage.googleapis.com/tensorflow/tf-keras-datasets/boston_housing.npz\n",
      "57344/57026 [==============================] - 0s 1us/step\n",
      "El tamaño de los datos de entrenamiento es: (404, 13)\n",
      "El tamaño de los labels de entrenamiento es: (404,)\n",
      "El tamaño de los datos de prueba es: (102, 13)\n",
      "El tamaño de los labels de prueba es: (102,)\n"
     ]
    }
   ],
   "source": [
    "from keras.datasets import boston_housing\n",
    "\n",
    "(train_data, train_targets), (test_data,test_targets) = boston_housing.load_data()\n",
    "\n",
    "print('El tamaño de los datos de entrenamiento es:', train_data.shape)\n",
    "print('El tamaño de los labels de entrenamiento es:', train_targets.shape)\n",
    "print('El tamaño de los datos de prueba es:', test_data.shape)\n",
    "print('El tamaño de los labels de prueba es:', test_targets.shape)"
   ]
  },
  {
   "cell_type": "markdown",
   "metadata": {},
   "source": [
    "Ahora normalizamos los datos:"
   ]
  },
  {
   "cell_type": "code",
   "execution_count": 74,
   "metadata": {},
   "outputs": [],
   "source": [
    "mean = train_data.mean(axis=0)\n",
    "train_data -= mean\n",
    "std = train_data.std(axis=0)\n",
    "train_data /= std\n",
    "\n",
    "test_data -= mean\n",
    "test_data /=std"
   ]
  },
  {
   "cell_type": "markdown",
   "metadata": {},
   "source": [
    "Ahora construimos la red:"
   ]
  },
  {
   "cell_type": "code",
   "execution_count": 76,
   "metadata": {},
   "outputs": [],
   "source": [
    "model = models.Sequential()\n",
    "model.add(layers.Dense(64,activation = 'relu',\n",
    "                       input_shape=(train_data.shape[1],)))\n",
    "model.add(layers.Dense(1))\n",
    "model.compile(optimizer='rmsprop', loss='mse', metrics=['mae'])"
   ]
  },
  {
   "cell_type": "code",
   "execution_count": 79,
   "metadata": {},
   "outputs": [
    {
     "data": {
      "text/plain": [
       "<tensorflow.python.keras.callbacks.History at 0x7fb2e1fd78d0>"
      ]
     },
     "execution_count": 79,
     "metadata": {},
     "output_type": "execute_result"
    }
   ],
   "source": [
    "model.fit(train_data, train_targets, epochs=70, batch_size = 128, verbose=0)"
   ]
  },
  {
   "cell_type": "code",
   "execution_count": 80,
   "metadata": {},
   "outputs": [
    {
     "name": "stdout",
     "output_type": "stream",
     "text": [
      "4/4 [==============================] - 0s 614us/step - loss: 23.0483 - mae: 3.6545\n",
      "test_acc: 3.65450382232666\n"
     ]
    }
   ],
   "source": [
    "test_loss, test_acc = model.evaluate(test_data, test_targets)\n",
    "print('test_acc:', test_acc)"
   ]
  },
  {
   "cell_type": "code",
   "execution_count": 82,
   "metadata": {},
   "outputs": [
    {
     "data": {
      "text/plain": [
       "<matplotlib.collections.PathCollection at 0x7fb2d3b2c5d0>"
      ]
     },
     "execution_count": 82,
     "metadata": {},
     "output_type": "execute_result"
    },
    {
     "data": {
      "image/png": "[encoded data removed]",
      "text/plain": [
       "<Figure size 432x288 with 1 Axes>"
      ]
     },
     "metadata": {
      "needs_background": "light"
     },
     "output_type": "display_data"
    }
   ],
   "source": [
    "test_pred = model.predict(test_data)\n",
    "plt.scatter(test_targets,test_pred)"
   ]
  },
  {
   "cell_type": "code",
   "execution_count": null,
   "metadata": {},
   "outputs": [],
   "source": []
  }
 ],
 "metadata": {
  "kernelspec": {
   "display_name": "Python 3",
   "language": "python",
   "name": "python3"
  },
  "language_info": {
   "codemirror_mode": {
    "name": "ipython",
    "version": 3
   },
   "file_extension": ".py",
   "mimetype": "text/x-python",
   "name": "python",
   "nbconvert_exporter": "python",
   "pygments_lexer": "ipython3",
   "version": "3.8.3"
  }
 },
 "nbformat": 4,
 "nbformat_minor": 2
}
