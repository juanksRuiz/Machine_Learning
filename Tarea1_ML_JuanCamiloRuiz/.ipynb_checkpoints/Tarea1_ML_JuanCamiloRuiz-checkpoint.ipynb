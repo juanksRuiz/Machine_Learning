{
 "cells": [
  {
   "cell_type": "markdown",
   "metadata": {
    "colab_type": "text",
    "id": "dAIacwNslMHC"
   },
   "source": [
    "# Gradiente descendiente\n",
    "En esta tarea se implementa el gradiente descendiente y se crea una grafica interactiva en la que se grafica el costo de la función en función de las épocas de actualización de los parámetros de la regresión."
   ]
  },
  {
   "cell_type": "code",
   "execution_count": 122,
   "metadata": {
    "colab": {},
    "colab_type": "code",
    "executionInfo": {
     "elapsed": 621,
     "status": "ok",
     "timestamp": 1597801875103,
     "user": {
      "displayName": "Juan Camilo Ruiz",
      "photoUrl": "",
      "userId": "17712048420463810283"
     },
     "user_tz": 300
    },
    "id": "8BEZKhZqBpyZ"
   },
   "outputs": [],
   "source": [
    "import numpy as np\n",
    "import seaborn as sns\n",
    "sns.set()"
   ]
  },
  {
   "cell_type": "markdown",
   "metadata": {
    "colab_type": "text",
    "id": "L_TA2JO9BLiL"
   },
   "source": [
    "## Función de costo\n",
    "A continuación se implenenta la función de costo $J(\\Theta)$.\n"
   ]
  },
  {
   "cell_type": "code",
   "execution_count": 1,
   "metadata": {
    "colab": {},
    "colab_type": "code",
    "id": "Ffy83P21Bgg8"
   },
   "outputs": [],
   "source": [
    "def J(theta,X,y):\n",
    "    \"\"\"\n",
    "  Calcula la funcion de costo para una regresion lineal (simple o múltiple)\n",
    "  \n",
    "  args:\n",
    "    theta: vector de coeficientes de los regresores (el primero es el independiente)\n",
    "    X: matriz de datos\n",
    "    y: valores de la variable respuesta\n",
    "  \n",
    "  returns\n",
    "    el error cuadrático medio\n",
    "  \"\"\"\n",
    "    n = len(X)\n",
    "    A = np.concatenate([np.ones([n,1]),X],axis=1)\n",
    "    h = np.matmul(A,theta)\n",
    "    e = h-y\n",
    "    mse = (np.matmul(e.T,e)[0][0])/n\n",
    "    return mse\n",
    "\n"
   ]
  },
  {
   "cell_type": "markdown",
   "metadata": {
    "colab_type": "text",
    "id": "NAAjVOmtiEjS"
   },
   "source": [
    "## Gradiente descendiente\n",
    "A continuación se implementa el algoritmo Gradiente Desendiente. En la función de a continuación se puede elegir el valor de la tasa de aprendizaje $\\alpha$ y el número de épocas con las que los parametros $\\theta$ de la regresión lineal se actualizan.\n",
    "El vector $\\Theta$ retornado es $(\\theta_0, \\theta_1,...,\\theta_p)$, con $\\theta_0$ el parámetro independiente y para todo $j\\not = p$, $\\theta_j$ es coeficiente que multiplica el j-ésimo regresor.  "
   ]
  },
  {
   "cell_type": "code",
   "execution_count": 179,
   "metadata": {
    "colab": {},
    "colab_type": "code",
    "executionInfo": {
     "elapsed": 688,
     "status": "ok",
     "timestamp": 1597805613086,
     "user": {
      "displayName": "Juan Camilo Ruiz",
      "photoUrl": "",
      "userId": "17712048420463810283"
     },
     "user_tz": 300
    },
    "id": "igdm2gNbiBa2"
   },
   "outputs": [],
   "source": [
    "def grad_descent(X,y,alfa,epochs):\n",
    "    \"\"\"\n",
    "  Calcula el gradiente para encontrar los parametros optimos theta.\n",
    "\n",
    "  args:\n",
    "    X: matriz de datos\n",
    "    y: valores de la variable respuesta\n",
    "    alfa: tasa de aprendizaje\n",
    "    epochs: numero de actualizaciones de los parametros theta\n",
    "\n",
    "  returns:\n",
    "    vector theta con valores optimos theta que minimizan la funcion de costo y lista con el costo calculado dados unos parametros theta\n",
    "    \"\"\"\n",
    "    m = len(X)\n",
    "    y = np.reshape(y,[m,1])\n",
    "    # la primera columna es de 0\n",
    "    A = np.concatenate([np.ones([m,1]),X],axis=1)   \n",
    "    # inicializacion aleatoria de coeficientes\n",
    "    theta = np.random.rand(A.shape[1],1)\n",
    "    costo = []\n",
    "    h = np.matmul(A,theta)\n",
    "    new_theta = np.copy(theta)\n",
    "    for k in range(epochs):\n",
    "        for p in range(len(theta)):\n",
    "            if p == 0:\n",
    "                new_theta[p][0] = new_theta[p][0] - alfa*(1/m)*sum(h-y)\n",
    "            else:\n",
    "                new_theta[p][0] = new_theta[p][0] - alfa*(1/m)*sum(np.multiply(h-y,np.reshape(X[:,p-1],[m,1])))\n",
    "        costo.append(J(new_theta,X,y))\n",
    "        h = np.matmul(A,new_theta)\n",
    "    return new_theta, costo\n",
    "\n"
   ]
  },
  {
   "cell_type": "markdown",
   "metadata": {
    "colab_type": "text",
    "id": "QRXeloS9cNU2"
   },
   "source": [
    "## Gráfica de la función de costo\n",
    "A continuación se encuentra la función que grafica la evolución del costo en función del número de iteraciones (epochs)."
   ]
  },
  {
   "cell_type": "code",
   "execution_count": 180,
   "metadata": {
    "colab": {},
    "colab_type": "code",
    "executionInfo": {
     "elapsed": 866,
     "status": "ok",
     "timestamp": 1597805616672,
     "user": {
      "displayName": "Juan Camilo Ruiz",
      "photoUrl": "",
      "userId": "17712048420463810283"
     },
     "user_tz": 300
    },
    "id": "rZXtt26eV6QV"
   },
   "outputs": [],
   "source": [
    "def plot_cost_function(X,y,alfa,epochs):\n",
    "    best_theta, mse = grad_descent(X,y,alfa,epochs)\n",
    "    lista_epocas = range(1,epochs+1)\n",
    "    ax = (sns.lineplot(x=lista_epocas,y=mse,markers=True)).set(xticks=lista_epocas,\n",
    "                                                                 title=\"Evolución de la función de costo con learning rate igual a \"+str(alfa),\n",
    "                                                                 xlabel= \"Epocas\",ylabel=\"Costo\")"
   ]
  },
  {
   "cell_type": "code",
   "execution_count": 181,
   "metadata": {
    "colab": {},
    "colab_type": "code",
    "executionInfo": {
     "elapsed": 684,
     "status": "ok",
     "timestamp": 1597805619277,
     "user": {
      "displayName": "Juan Camilo Ruiz",
      "photoUrl": "",
      "userId": "17712048420463810283"
     },
     "user_tz": 300
    },
    "id": "sfIRCOWlER7a"
   },
   "outputs": [],
   "source": [
    "# Ensayos: la ultima columna de X  es y\n",
    "data = np.random.rand(10,3)\n",
    "X = data[:,:-1]\n",
    "# La 3era columna es y\n",
    "y = X[:,-1]\n",
    "alfa = 0.1\n",
    "epochs = 20\n",
    "n_theta, mse = grad_descent(X,y,alfa,epochs)"
   ]
  },
  {
   "cell_type": "markdown",
   "metadata": {
    "colab_type": "text",
    "id": "-NLTfIkGQfAz"
   },
   "source": [
    "## Gráfica interactiva\n",
    "En esta sección se creará una gráfica interactiva sencilla donde se puede manipular la tasa de aprendizaje $\\alpha$ como lo desee el usuario y así pueda ver como cambia la gráfica de la evolución de la función de costo.\n",
    "Para esto usaremos la librería *ipywidgets*.\n",
    "\n"
   ]
  },
  {
   "cell_type": "code",
   "execution_count": 184,
   "metadata": {
    "colab": {},
    "colab_type": "code",
    "executionInfo": {
     "elapsed": 986,
     "status": "ok",
     "timestamp": 1597805662137,
     "user": {
      "displayName": "Juan Camilo Ruiz",
      "photoUrl": "",
      "userId": "17712048420463810283"
     },
     "user_tz": 300
    },
    "id": "PfEv74vIQ_E6"
   },
   "outputs": [],
   "source": [
    "import ipywidgets as widgets\n",
    "from ipywidgets import interact, fixed"
   ]
  },
  {
   "cell_type": "code",
   "execution_count": 183,
   "metadata": {
    "colab": {
     "base_uri": "https://localhost:8080/",
     "height": 350,
     "referenced_widgets": [
      "fa48cfefdbc3486a833a639447d380bf",
      "798494d2da224f9f9f5b3a995896bc1c",
      "5d0c4daef1614107857f1e05180246c6",
      "ee18a64774f743ad9dfd763a1c06f2d4",
      "1485d31e634e43b0beca95a53a2c6dff",
      "79248a678bc8437db48f321a34fbaf7e",
      "69b823b22f8344e9b53da640541002e6"
     ]
    },
    "colab_type": "code",
    "executionInfo": {
     "elapsed": 1360,
     "status": "ok",
     "timestamp": 1597805628059,
     "user": {
      "displayName": "Juan Camilo Ruiz",
      "photoUrl": "",
      "userId": "17712048420463810283"
     },
     "user_tz": 300
    },
    "id": "Pu8IEHmBRT7j",
    "outputId": "1ddce873-fa87-4b25-81a4-d48a749ef8a0"
   },
   "outputs": [
    {
     "data": {
      "application/vnd.jupyter.widget-view+json": {
       "model_id": "fa48cfefdbc3486a833a639447d380bf",
       "version_major": 2,
       "version_minor": 0
      },
      "text/plain": [
       "interactive(children=(FloatSlider(value=1.0, description='alpha', max=2.0), Output()), _dom_classes=('widget-i…"
      ]
     },
     "metadata": {
      "tags": []
     },
     "output_type": "display_data"
    },
    {
     "data": {
      "text/plain": [
       "<function __main__.graficar>"
      ]
     },
     "execution_count": 183,
     "metadata": {
      "tags": []
     },
     "output_type": "execute_result"
    }
   ],
   "source": [
    "def graficar(alpha,epocas):\n",
    "    plot_cost_function(X,y,alpha,epocas)\n",
    "interact(graficar, alpha=(0,2,0.1),epocas=fixed(20))"
   ]
  }
 ],
 "metadata": {
  "colab": {
   "authorship_tag": "ABX9TyP78oYXMGsXHSMIMycBFP53",
   "collapsed_sections": [],
   "name": "Tarea1_ML_JuanCamiloRuiz",
   "provenance": []
  },
  "kernelspec": {
   "display_name": "Python 3",
   "language": "python",
   "name": "python3"
  },
  "language_info": {
   "codemirror_mode": {
    "name": "ipython",
    "version": 3
   },
   "file_extension": ".py",
   "mimetype": "text/x-python",
   "name": "python",
   "nbconvert_exporter": "python",
   "pygments_lexer": "ipython3",
   "version": "3.7.0"
  },
  "widgets": {
   "application/vnd.jupyter.widget-state+json": {
    "1485d31e634e43b0beca95a53a2c6dff": {
     "model_module": "@jupyter-widgets/controls",
     "model_name": "SliderStyleModel",
     "state": {
      "_model_module": "@jupyter-widgets/controls",
      "_model_module_version": "1.5.0",
      "_model_name": "SliderStyleModel",
      "_view_count": null,
      "_view_module": "@jupyter-widgets/base",
      "_view_module_version": "1.2.0",
      "_view_name": "StyleView",
      "description_width": "",
      "handle_color": null
     }
    },
    "5d0c4daef1614107857f1e05180246c6": {
     "model_module": "@jupyter-widgets/controls",
     "model_name": "FloatSliderModel",
     "state": {
      "_dom_classes": [],
      "_model_module": "@jupyter-widgets/controls",
      "_model_module_version": "1.5.0",
      "_model_name": "FloatSliderModel",
      "_view_count": null,
      "_view_module": "@jupyter-widgets/controls",
      "_view_module_version": "1.5.0",
      "_view_name": "FloatSliderView",
      "continuous_update": true,
      "description": "alpha",
      "description_tooltip": null,
      "disabled": false,
      "layout": "IPY_MODEL_79248a678bc8437db48f321a34fbaf7e",
      "max": 2,
      "min": 0,
      "orientation": "horizontal",
      "readout": true,
      "readout_format": ".2f",
      "step": 0.1,
      "style": "IPY_MODEL_1485d31e634e43b0beca95a53a2c6dff",
      "value": 0.9
     }
    },
    "69b823b22f8344e9b53da640541002e6": {
     "model_module": "@jupyter-widgets/base",
     "model_name": "LayoutModel",
     "state": {
      "_model_module": "@jupyter-widgets/base",
      "_model_module_version": "1.2.0",
      "_model_name": "LayoutModel",
      "_view_count": null,
      "_view_module": "@jupyter-widgets/base",
      "_view_module_version": "1.2.0",
      "_view_name": "LayoutView",
      "align_content": null,
      "align_items": null,
      "align_self": null,
      "border": null,
      "bottom": null,
      "display": null,
      "flex": null,
      "flex_flow": null,
      "grid_area": null,
      "grid_auto_columns": null,
      "grid_auto_flow": null,
      "grid_auto_rows": null,
      "grid_column": null,
      "grid_gap": null,
      "grid_row": null,
      "grid_template_areas": null,
      "grid_template_columns": null,
      "grid_template_rows": null,
      "height": null,
      "justify_content": null,
      "justify_items": null,
      "left": null,
      "margin": null,
      "max_height": null,
      "max_width": null,
      "min_height": null,
      "min_width": null,
      "object_fit": null,
      "object_position": null,
      "order": null,
      "overflow": null,
      "overflow_x": null,
      "overflow_y": null,
      "padding": null,
      "right": null,
      "top": null,
      "visibility": null,
      "width": null
     }
    },
    "79248a678bc8437db48f321a34fbaf7e": {
     "model_module": "@jupyter-widgets/base",
     "model_name": "LayoutModel",
     "state": {
      "_model_module": "@jupyter-widgets/base",
      "_model_module_version": "1.2.0",
      "_model_name": "LayoutModel",
      "_view_count": null,
      "_view_module": "@jupyter-widgets/base",
      "_view_module_version": "1.2.0",
      "_view_name": "LayoutView",
      "align_content": null,
      "align_items": null,
      "align_self": null,
      "border": null,
      "bottom": null,
      "display": null,
      "flex": null,
      "flex_flow": null,
      "grid_area": null,
      "grid_auto_columns": null,
      "grid_auto_flow": null,
      "grid_auto_rows": null,
      "grid_column": null,
      "grid_gap": null,
      "grid_row": null,
      "grid_template_areas": null,
      "grid_template_columns": null,
      "grid_template_rows": null,
      "height": null,
      "justify_content": null,
      "justify_items": null,
      "left": null,
      "margin": null,
      "max_height": null,
      "max_width": null,
      "min_height": null,
      "min_width": null,
      "object_fit": null,
      "object_position": null,
      "order": null,
      "overflow": null,
      "overflow_x": null,
      "overflow_y": null,
      "padding": null,
      "right": null,
      "top": null,
      "visibility": null,
      "width": null
     }
    },
    "798494d2da224f9f9f5b3a995896bc1c": {
     "model_module": "@jupyter-widgets/base",
     "model_name": "LayoutModel",
     "state": {
      "_model_module": "@jupyter-widgets/base",
      "_model_module_version": "1.2.0",
      "_model_name": "LayoutModel",
      "_view_count": null,
      "_view_module": "@jupyter-widgets/base",
      "_view_module_version": "1.2.0",
      "_view_name": "LayoutView",
      "align_content": null,
      "align_items": null,
      "align_self": null,
      "border": null,
      "bottom": null,
      "display": null,
      "flex": null,
      "flex_flow": null,
      "grid_area": null,
      "grid_auto_columns": null,
      "grid_auto_flow": null,
      "grid_auto_rows": null,
      "grid_column": null,
      "grid_gap": null,
      "grid_row": null,
      "grid_template_areas": null,
      "grid_template_columns": null,
      "grid_template_rows": null,
      "height": null,
      "justify_content": null,
      "justify_items": null,
      "left": null,
      "margin": null,
      "max_height": null,
      "max_width": null,
      "min_height": null,
      "min_width": null,
      "object_fit": null,
      "object_position": null,
      "order": null,
      "overflow": null,
      "overflow_x": null,
      "overflow_y": null,
      "padding": null,
      "right": null,
      "top": null,
      "visibility": null,
      "width": null
     }
    },
    "ee18a64774f743ad9dfd763a1c06f2d4": {
     "model_module": "@jupyter-widgets/output",
     "model_name": "OutputModel",
     "state": {
      "_dom_classes": [],
      "_model_module": "@jupyter-widgets/output",
      "_model_module_version": "1.0.0",
      "_model_name": "OutputModel",
      "_view_count": null,
      "_view_module": "@jupyter-widgets/output",
      "_view_module_version": "1.0.0",
      "_view_name": "OutputView",
      "layout": "IPY_MODEL_69b823b22f8344e9b53da640541002e6",
      "msg_id": "",
      "outputs": [
       {
        "image/png": "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\n",
        "metadata": {
         "tags": []
        },
        "output_type": "display_data",
        "text/plain": "<Figure size 432x288 with 1 Axes>"
       }
      ]
     }
    },
    "fa48cfefdbc3486a833a639447d380bf": {
     "model_module": "@jupyter-widgets/controls",
     "model_name": "VBoxModel",
     "state": {
      "_dom_classes": [
       "widget-interact"
      ],
      "_model_module": "@jupyter-widgets/controls",
      "_model_module_version": "1.5.0",
      "_model_name": "VBoxModel",
      "_view_count": null,
      "_view_module": "@jupyter-widgets/controls",
      "_view_module_version": "1.5.0",
      "_view_name": "VBoxView",
      "box_style": "",
      "children": [
       "IPY_MODEL_5d0c4daef1614107857f1e05180246c6",
       "IPY_MODEL_ee18a64774f743ad9dfd763a1c06f2d4"
      ],
      "layout": "IPY_MODEL_798494d2da224f9f9f5b3a995896bc1c"
     }
    }
   }
  }
 },
 "nbformat": 4,
 "nbformat_minor": 1
}
