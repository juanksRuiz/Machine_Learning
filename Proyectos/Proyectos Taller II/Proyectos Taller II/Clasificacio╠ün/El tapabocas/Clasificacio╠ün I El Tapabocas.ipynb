{
 "cells": [
  {
   "cell_type": "markdown",
   "metadata": {},
   "source": [
    "# Clasificación I: El Tapabocas\n",
    "\n",
    "Debido a la contingencia del COVID el profesor Alexander no quiere salir de su casa, según él, la ciudad no está realizando los exfuerzos suficientes para determinar si las personas estan o no siguiendo el protocol de bioseguridad. Sin embargo, al ver que sus estudiantes del curso de Machine learning ya saben utilizar redes neuronales, él ha decidido utilizar como proyecto el desarrollo de un sistema que permita identificar si las personas estan utilizando o no el tapabocas, por medio de fotografias.\n",
    "\n",
    "Para la realización de este proyecto el estudiante debera:\n",
    "\n",
    "1. Crear una base de datos con fotografias donde diferentes personas esten utilizando y no esten utilizando tapabocas. Aqui debe tener en cuenta dos cosas:\n",
    "    * Tenga en cuenta que una red aprende con base en la información que le proporcionemos, asi que al crear la base de datos tenga en cuenta todas las posibilidades que se imaginen de como podrian estar esas fotos.\n",
    "    * Si tenemos imagenes muy grandes esto requerira de una red muy grande que puede tardar mucho tiempo en entrenar. Tenga en cuenta ensto por si es necesario procesar las imagenes antes de ingresarlas a la red.   \n",
    "2. Definir las arquitecturas de red que debe probar.\n",
    "3. Escoger la red que mejor se desempeñe.\n",
    "4. Evaluar el rendimiento de la red.\n",
    "\n",
    "\n",
    "Tenga en cuenta que todo el procedimiento debe ser lo mas amigable para probar. Es decir si el profesor Alexander quiere probar una foto, entonces él solo deberia ingresar la foto en una función la cual se encargue de hacer todo el procesamiento y proporcionar como salida si la persona tiene o no tapabocas.\n",
    "\n",
    "Además el profesor quiere que contesten las siguientes preguntas:\n",
    "\n",
    "1. ¿Qué puede concluir del comportamiento de la red y los datos proporcionados?\n",
    "2. ¿Qué criterio utilizó para seleccionar la arquitectura de la red?\n",
    "3. ¿Tiene la red el comportamiento esperado?, si no es así, ¿A qué cree que se debe esto?\n",
    "4. ¿Qué le mejoraria al modelo que usted diseño?, ¿Cómo implementaría esas mejoras?\n",
    "\n",
    "## Qué se debe entregar:\n",
    "\n",
    "Par ala entrega del proyecto deben porporcionar:\n",
    "\n",
    "1. La base de datos generada.\n",
    "2. Un notebook de Jupyter donde presentan todo el pipeline para el entrenamiento de la red. Cada parte debe ser explicada.\n",
    "3. El notebook debe incluir una función que permita ingresar una muestra de entrada y se proporcione la salida, sin mas pasos intermedios. Por lo tanto en esta función se debe tener en cuenta el acondicionamiento de los datos, antes de ser introducidos en la red neuronal par arealizar las predicciones.\n",
    "4. El notebook debe incluir las respuestas a las preguntas planteadas."
   ]
  },
  {
   "cell_type": "code",
   "execution_count": null,
   "metadata": {},
   "outputs": [],
   "source": []
  }
 ],
 "metadata": {
  "kernelspec": {
   "display_name": "Python 3",
   "language": "python",
   "name": "python3"
  },
  "language_info": {
   "codemirror_mode": {
    "name": "ipython",
    "version": 3
   },
   "file_extension": ".py",
   "mimetype": "text/x-python",
   "name": "python",
   "nbconvert_exporter": "python",
   "pygments_lexer": "ipython3",
   "version": "3.8.3"
  }
 },
 "nbformat": 4,
 "nbformat_minor": 2
}
