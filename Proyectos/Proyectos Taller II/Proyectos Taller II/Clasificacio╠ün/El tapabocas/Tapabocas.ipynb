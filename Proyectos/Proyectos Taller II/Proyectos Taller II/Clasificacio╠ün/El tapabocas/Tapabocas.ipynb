{
 "cells": [
  {
   "cell_type": "markdown",
   "metadata": {},
   "source": [
    "## Preprocesamiento\n",
    "1. Conseguir las imágenes, decir origen\n",
    "2. Reescalarlas\n",
    "3. Suavizado (explorar con y sin suavizado)\n",
    "4. Transformar todas las imagenes a dataframe con informacion de cada pixel por columna\n",
    "\n",
    "Ya tenemos realizado los primeros pasos. Ahora debemos cargar las imagenes para poder armar la base de datos."
   ]
  },
  {
   "cell_type": "code",
   "execution_count": 1,
   "metadata": {},
   "outputs": [],
   "source": [
    "import cv2\n",
    "from skimage import data, color, io\n",
    "from skimage.transform import rescale, resize, downscale_local_mean\n",
    "import skimage\n",
    "from skimage import io\n",
    "\n",
    "import matplotlib.pyplot as plt\n",
    "import matplotlib.image as mpimg\n",
    "import numpy as np\n",
    "import os\n",
    "\n",
    "from sklearn.model_selection import train_test_split\n",
    "\n",
    "import pandas as pd\n",
    "%matplotlib inline\n"
   ]
  },
  {
   "cell_type": "code",
   "execution_count": 2,
   "metadata": {},
   "outputs": [],
   "source": [
    "def suavizar(img):\n",
    "    \"\"\"\n",
    "    Suaviza a la imagen aplicando kernel de convolucion\n",
    "    \"\"\"\n",
    "    n = 2\n",
    "    kernel = np.ones((n,n),np.float32)*(1./(n**2))\n",
    "    img_tf = cv2.filter2D(img,-1,kernel)\n",
    "    return img_tf\n",
    "\n",
    "def rgb2gray(rgb):\n",
    "    return np.dot(rgb[...,:3], [0.299, 0.587, 0.144])\n",
    "\n",
    "def load_data(path,w,h):\n",
    "    \"\"\"\n",
    "    Crea la base de datos de las imagenes\n",
    "    args:\n",
    "        path: path de la carpeta con imagenes\n",
    "        w: ancho de imagen\n",
    "        h: alto de imagen\n",
    "    returns:\n",
    "        dataframe con registros de imagenes\n",
    "    \"\"\"\n",
    "    names = os.listdir(path)\n",
    "    width = w\n",
    "    height = h\n",
    "    data = np.zeros([len(names),width*height])\n",
    "    for i in range(len(names)):\n",
    "        image = io.imread(path+\"/\"+names[i], as_gray=True)\n",
    "        image_resized = resize(image,(height , width),anti_aliasing=True)\n",
    "        data[i,:] = np.asarray(image_resized).reshape(-1)\n",
    "    data = pd.DataFrame(data,columns=[str(i) for i in range(width*height)])\n",
    "    return data"
   ]
  },
  {
   "cell_type": "code",
   "execution_count": 3,
   "metadata": {},
   "outputs": [],
   "source": [
    "path_con = \"C:/Users/juank/Downloads/Fotos_tapabocas_ML/Fotos_tapabocas_ML/con_tapabocas\"\n",
    "path_sin = \"C:/Users/juank/Downloads/Fotos_tapabocas_ML/Fotos_tapabocas_ML/sin_tapabocas\"\n",
    "width = 40\n",
    "height = 80\n",
    "df_con = load_data(path_con,width,height)\n",
    "df_sin = load_data(path_sin,width,height)"
   ]
  },
  {
   "cell_type": "code",
   "execution_count": 6,
   "metadata": {},
   "outputs": [
    {
     "name": "stdout",
     "output_type": "stream",
     "text": [
      "(61, 3200)\n",
      "(54, 3200)\n"
     ]
    }
   ],
   "source": [
    "print(df_con.shape)\n",
    "print(df_sin.shape)\n",
    "df = pd.DataFrame(np.concatenate([df_con,df_sin],axis=0), columns = df_con.columns)\n",
    "df[\"mask_on\"] = np.array([\"1\"]*df_con.shape[0] + [\"0\"]*df_sin.shape[0])\n",
    "df = df.sample(frac=1)"
   ]
  },
  {
   "cell_type": "code",
   "execution_count": 9,
   "metadata": {},
   "outputs": [],
   "source": [
    "df[\"mask_on\"] = pd.get_dummies(df[\"mask_on\"],drop_first=True) # 1 si tiene tapabocas, 0 si no lo tiene puesto (o no bien)"
   ]
  },
  {
   "cell_type": "code",
   "execution_count": 10,
   "metadata": {},
   "outputs": [
    {
     "data": {
      "text/html": [
       "<div>\n",
       "<style scoped>\n",
       "    .dataframe tbody tr th:only-of-type {\n",
       "        vertical-align: middle;\n",
       "    }\n",
       "\n",
       "    .dataframe tbody tr th {\n",
       "        vertical-align: top;\n",
       "    }\n",
       "\n",
       "    .dataframe thead th {\n",
       "        text-align: right;\n",
       "    }\n",
       "</style>\n",
       "<table border=\"1\" class=\"dataframe\">\n",
       "  <thead>\n",
       "    <tr style=\"text-align: right;\">\n",
       "      <th></th>\n",
       "      <th>0</th>\n",
       "      <th>1</th>\n",
       "      <th>2</th>\n",
       "      <th>3</th>\n",
       "      <th>4</th>\n",
       "      <th>5</th>\n",
       "      <th>6</th>\n",
       "      <th>7</th>\n",
       "      <th>8</th>\n",
       "      <th>9</th>\n",
       "      <th>...</th>\n",
       "      <th>3191</th>\n",
       "      <th>3192</th>\n",
       "      <th>3193</th>\n",
       "      <th>3194</th>\n",
       "      <th>3195</th>\n",
       "      <th>3196</th>\n",
       "      <th>3197</th>\n",
       "      <th>3198</th>\n",
       "      <th>3199</th>\n",
       "      <th>mask_on</th>\n",
       "    </tr>\n",
       "  </thead>\n",
       "  <tbody>\n",
       "    <tr>\n",
       "      <th>5</th>\n",
       "      <td>0.777918</td>\n",
       "      <td>0.767929</td>\n",
       "      <td>0.746012</td>\n",
       "      <td>0.719939</td>\n",
       "      <td>0.703129</td>\n",
       "      <td>0.695372</td>\n",
       "      <td>0.694572</td>\n",
       "      <td>0.696028</td>\n",
       "      <td>0.692561</td>\n",
       "      <td>0.684155</td>\n",
       "      <td>...</td>\n",
       "      <td>0.321299</td>\n",
       "      <td>0.328965</td>\n",
       "      <td>0.290175</td>\n",
       "      <td>0.222711</td>\n",
       "      <td>0.236938</td>\n",
       "      <td>0.261646</td>\n",
       "      <td>0.318562</td>\n",
       "      <td>0.361794</td>\n",
       "      <td>0.278664</td>\n",
       "      <td>1</td>\n",
       "    </tr>\n",
       "    <tr>\n",
       "      <th>76</th>\n",
       "      <td>0.804689</td>\n",
       "      <td>0.787765</td>\n",
       "      <td>0.757423</td>\n",
       "      <td>0.758491</td>\n",
       "      <td>0.738031</td>\n",
       "      <td>0.732110</td>\n",
       "      <td>0.587861</td>\n",
       "      <td>0.220943</td>\n",
       "      <td>0.165744</td>\n",
       "      <td>0.153348</td>\n",
       "      <td>...</td>\n",
       "      <td>0.093776</td>\n",
       "      <td>0.144923</td>\n",
       "      <td>0.349590</td>\n",
       "      <td>0.591586</td>\n",
       "      <td>0.599921</td>\n",
       "      <td>0.392367</td>\n",
       "      <td>0.100520</td>\n",
       "      <td>0.059394</td>\n",
       "      <td>0.055631</td>\n",
       "      <td>0</td>\n",
       "    </tr>\n",
       "    <tr>\n",
       "      <th>54</th>\n",
       "      <td>0.659714</td>\n",
       "      <td>0.669836</td>\n",
       "      <td>0.673495</td>\n",
       "      <td>0.669961</td>\n",
       "      <td>0.674134</td>\n",
       "      <td>0.681978</td>\n",
       "      <td>0.687247</td>\n",
       "      <td>0.688851</td>\n",
       "      <td>0.690676</td>\n",
       "      <td>0.693165</td>\n",
       "      <td>...</td>\n",
       "      <td>0.223025</td>\n",
       "      <td>0.235705</td>\n",
       "      <td>0.294241</td>\n",
       "      <td>0.296647</td>\n",
       "      <td>0.281040</td>\n",
       "      <td>0.277377</td>\n",
       "      <td>0.217485</td>\n",
       "      <td>0.189459</td>\n",
       "      <td>0.242043</td>\n",
       "      <td>1</td>\n",
       "    </tr>\n",
       "    <tr>\n",
       "      <th>26</th>\n",
       "      <td>0.240938</td>\n",
       "      <td>0.237144</td>\n",
       "      <td>0.269894</td>\n",
       "      <td>0.236344</td>\n",
       "      <td>0.237556</td>\n",
       "      <td>0.243640</td>\n",
       "      <td>0.259936</td>\n",
       "      <td>0.268911</td>\n",
       "      <td>0.254092</td>\n",
       "      <td>0.247310</td>\n",
       "      <td>...</td>\n",
       "      <td>0.835882</td>\n",
       "      <td>0.815235</td>\n",
       "      <td>0.800276</td>\n",
       "      <td>0.848811</td>\n",
       "      <td>0.816162</td>\n",
       "      <td>0.810933</td>\n",
       "      <td>0.788310</td>\n",
       "      <td>0.671688</td>\n",
       "      <td>0.790662</td>\n",
       "      <td>1</td>\n",
       "    </tr>\n",
       "    <tr>\n",
       "      <th>109</th>\n",
       "      <td>0.225055</td>\n",
       "      <td>0.318353</td>\n",
       "      <td>0.510806</td>\n",
       "      <td>0.543406</td>\n",
       "      <td>0.556500</td>\n",
       "      <td>0.560271</td>\n",
       "      <td>0.414889</td>\n",
       "      <td>0.143324</td>\n",
       "      <td>0.111081</td>\n",
       "      <td>0.105434</td>\n",
       "      <td>...</td>\n",
       "      <td>0.424345</td>\n",
       "      <td>0.395795</td>\n",
       "      <td>0.387297</td>\n",
       "      <td>0.384792</td>\n",
       "      <td>0.384307</td>\n",
       "      <td>0.393123</td>\n",
       "      <td>0.390811</td>\n",
       "      <td>0.374581</td>\n",
       "      <td>0.374923</td>\n",
       "      <td>0</td>\n",
       "    </tr>\n",
       "  </tbody>\n",
       "</table>\n",
       "<p>5 rows × 3201 columns</p>\n",
       "</div>"
      ],
      "text/plain": [
       "            0         1         2         3         4         5         6  \\\n",
       "5    0.777918  0.767929  0.746012  0.719939  0.703129  0.695372  0.694572   \n",
       "76   0.804689  0.787765  0.757423  0.758491  0.738031  0.732110  0.587861   \n",
       "54   0.659714  0.669836  0.673495  0.669961  0.674134  0.681978  0.687247   \n",
       "26   0.240938  0.237144  0.269894  0.236344  0.237556  0.243640  0.259936   \n",
       "109  0.225055  0.318353  0.510806  0.543406  0.556500  0.560271  0.414889   \n",
       "\n",
       "            7         8         9  ...      3191      3192      3193  \\\n",
       "5    0.696028  0.692561  0.684155  ...  0.321299  0.328965  0.290175   \n",
       "76   0.220943  0.165744  0.153348  ...  0.093776  0.144923  0.349590   \n",
       "54   0.688851  0.690676  0.693165  ...  0.223025  0.235705  0.294241   \n",
       "26   0.268911  0.254092  0.247310  ...  0.835882  0.815235  0.800276   \n",
       "109  0.143324  0.111081  0.105434  ...  0.424345  0.395795  0.387297   \n",
       "\n",
       "         3194      3195      3196      3197      3198      3199  mask_on  \n",
       "5    0.222711  0.236938  0.261646  0.318562  0.361794  0.278664        1  \n",
       "76   0.591586  0.599921  0.392367  0.100520  0.059394  0.055631        0  \n",
       "54   0.296647  0.281040  0.277377  0.217485  0.189459  0.242043        1  \n",
       "26   0.848811  0.816162  0.810933  0.788310  0.671688  0.790662        1  \n",
       "109  0.384792  0.384307  0.393123  0.390811  0.374581  0.374923        0  \n",
       "\n",
       "[5 rows x 3201 columns]"
      ]
     },
     "execution_count": 10,
     "metadata": {},
     "output_type": "execute_result"
    }
   ],
   "source": [
    "df.head()"
   ]
  },
  {
   "cell_type": "markdown",
   "metadata": {},
   "source": [
    "----"
   ]
  },
  {
   "cell_type": "markdown",
   "metadata": {},
   "source": [
    "## Implementación de redes neuronales\n",
    "### Separación de datos de entrenamiento y de prueba\n",
    "Ayuda: https://keras.io/api/optimizers/"
   ]
  },
  {
   "cell_type": "code",
   "execution_count": 11,
   "metadata": {},
   "outputs": [],
   "source": [
    "X = df.iloc[:,:-1]\n",
    "y = df[\"mask_on\"]\n",
    "X_train,X_test,y_train,y_test = train_test_split(X,y,test_size=0.2, random_state=42)"
   ]
  },
  {
   "cell_type": "code",
   "execution_count": 12,
   "metadata": {},
   "outputs": [
    {
     "name": "stdout",
     "output_type": "stream",
     "text": [
      "92\n",
      "23\n"
     ]
    }
   ],
   "source": [
    "print(len(\"Train size: \",X_train))\n",
    "print(len(\"Test size: \", X_test))\n",
    "\n"
   ]
  },
  {
   "cell_type": "code",
   "execution_count": 13,
   "metadata": {},
   "outputs": [
    {
     "data": {
      "text/plain": [
       "3200"
      ]
     },
     "execution_count": 13,
     "metadata": {},
     "output_type": "execute_result"
    }
   ],
   "source": [
    "width*height"
   ]
  },
  {
   "cell_type": "code",
   "execution_count": 14,
   "metadata": {},
   "outputs": [],
   "source": [
    "# Inicializando los parametros de la red neuronal\n",
    "import keras\n",
    "from keras import models\n",
    "from keras import layers"
   ]
  },
  {
   "cell_type": "code",
   "execution_count": 20,
   "metadata": {},
   "outputs": [],
   "source": [
    "network = models.Sequential()\n",
    "network.add(layers.Dense(4000, activation='sigmoid', input_shape=(width*height,)))\n",
    "network.add(layers.Dense(7000,activation='relu'))\n",
    "network.add(layers.Dense(5000,activation='relu'))\n",
    "network.add(layers.Dense(3000,activation='relu'))\n",
    "network.add(layers.Dense(2000,activation='relu'))\n",
    "network.add(layers.Dense(1000,activation='relu'))\n",
    "network.add(layers.Dense(100,activation='relu'))\n",
    "\n",
    "#network.add(layers.Dense(5000,activation='relu'))\n",
    "#network.add(layers.Dense(7000,activation='relu'))\n",
    "#network.add(layers.Dense(5000,activation='relu'))\n",
    "#network.add(layers.Dense(7000,activation='relu'))\n",
    "\n",
    "network.add(layers.Dense(1,activation='relu'))\n",
    "#network.add(layers.Dense(3000,activation='sigmoid'))\n",
    "\n",
    "opt = keras.optimizers.Adam(learning_rate=1e-15)\n",
    "#model.compile(loss='categorical_crossentropy', optimizer=opt)\n",
    "\n",
    "network.compile(optimizer = opt,\n",
    "                loss='categorical_crossentropy',\n",
    "               metrics=['accuracy'])"
   ]
  },
  {
   "cell_type": "code",
   "execution_count": 21,
   "metadata": {},
   "outputs": [
    {
     "name": "stdout",
     "output_type": "stream",
     "text": [
      "Epoch 1/10\n",
      "19/19 [==============================] - 14s 761ms/step - loss: nan - accuracy: 0.4565\n",
      "Epoch 2/10\n",
      "19/19 [==============================] - 14s 740ms/step - loss: nan - accuracy: 0.4565\n",
      "Epoch 3/10\n",
      "19/19 [==============================] - 15s 775ms/step - loss: nan - accuracy: 0.4565\n",
      "Epoch 4/10\n",
      "19/19 [==============================] - 14s 732ms/step - loss: nan - accuracy: 0.4565\n",
      "Epoch 5/10\n",
      "19/19 [==============================] - 14s 729ms/step - loss: nan - accuracy: 0.4565\n",
      "Epoch 6/10\n",
      "19/19 [==============================] - 14s 745ms/step - loss: nan - accuracy: 0.4565\n",
      "Epoch 7/10\n",
      "19/19 [==============================] - 14s 744ms/step - loss: nan - accuracy: 0.4565\n",
      "Epoch 8/10\n",
      "19/19 [==============================] - 14s 744ms/step - loss: nan - accuracy: 0.4565\n",
      "Epoch 9/10\n",
      "19/19 [==============================] - 14s 740ms/step - loss: nan - accuracy: 0.4565\n",
      "Epoch 10/10\n",
      "19/19 [==============================] - 14s 758ms/step - loss: nan - accuracy: 0.4565\n"
     ]
    },
    {
     "data": {
      "text/plain": [
       "<tensorflow.python.keras.callbacks.History at 0x1d59a8de760>"
      ]
     },
     "execution_count": 21,
     "metadata": {},
     "output_type": "execute_result"
    }
   ],
   "source": [
    "network.fit(X_train, y_train, epochs=10,batch_size=5)"
   ]
  },
  {
   "cell_type": "code",
   "execution_count": null,
   "metadata": {},
   "outputs": [],
   "source": []
  }
 ],
 "metadata": {
  "kernelspec": {
   "display_name": "Python 3",
   "language": "python",
   "name": "python3"
  },
  "language_info": {
   "codemirror_mode": {
    "name": "ipython",
    "version": 3
   },
   "file_extension": ".py",
   "mimetype": "text/x-python",
   "name": "python",
   "nbconvert_exporter": "python",
   "pygments_lexer": "ipython3",
   "version": "3.8.3"
  }
 },
 "nbformat": 4,
 "nbformat_minor": 4
}
