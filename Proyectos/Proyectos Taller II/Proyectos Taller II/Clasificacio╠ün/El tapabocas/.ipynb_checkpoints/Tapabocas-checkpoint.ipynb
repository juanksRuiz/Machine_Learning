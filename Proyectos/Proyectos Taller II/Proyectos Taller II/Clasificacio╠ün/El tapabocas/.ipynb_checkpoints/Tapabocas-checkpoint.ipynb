{
 "cells": [
  {
   "cell_type": "markdown",
   "metadata": {},
   "source": [
    "## Preprocesamiento\n",
    "1. Conseguir las imágenes, decir origen\n",
    "2. Reescalarlas\n",
    "3. Suavizado (explorar con y sin suavizado)\n",
    "4. Transformar todas las imagenes a dataframe con informacion de cada pixel por columna\n",
    "\n",
    "Ya tenemos realizado los primeros pasos. Ahora debemos cargar las imagenes para poder armar la base de datos."
   ]
  },
  {
   "cell_type": "code",
   "execution_count": 64,
   "metadata": {},
   "outputs": [],
   "source": [
    "import cv2\n",
    "from skimage import data, color, io\n",
    "from skimage.transform import rescale, resize, downscale_local_mean\n",
    "import skimage\n",
    "from skimage import io\n",
    "\n",
    "import matplotlib.pyplot as plt\n",
    "import matplotlib.image as mpimg\n",
    "import numpy as np\n",
    "import os\n",
    "\n",
    "from sklearn.model_selection import train_test_split\n",
    "\n",
    "import pandas as pd\n",
    "%matplotlib inline\n"
   ]
  },
  {
   "cell_type": "code",
   "execution_count": 75,
   "metadata": {},
   "outputs": [],
   "source": [
    "def suavizar(img):\n",
    "    \"\"\"\n",
    "    Suaviza a la imagen aplicando kernel de convolucion\n",
    "    \"\"\"\n",
    "    n = 2\n",
    "    kernel = np.ones((n,n),np.float32)*(1./(n**2))\n",
    "    img_tf = cv2.filter2D(img,-1,kernel)\n",
    "    return img_tf\n",
    "\n",
    "def rgb2gray(rgb):\n",
    "    return np.dot(rgb[...,:3], [0.299, 0.587, 0.144])\n",
    "\n",
    "def load_data(path,w,h):\n",
    "    \"\"\"\n",
    "    Crea la base de datos de las imagenes\n",
    "    args:\n",
    "        path: path de la carpeta con imagenes\n",
    "        w: ancho de imagen\n",
    "        h: alto de imagen\n",
    "    returns:\n",
    "        dataframe con registros de imagenes\n",
    "    \"\"\"\n",
    "    names = os.listdir(path)\n",
    "    width = w\n",
    "    height = h\n",
    "    data = np.zeros([len(names),width*height])\n",
    "    for i in range(len(names)):\n",
    "        image = io.imread(path+\"/\"+names[i], as_gray=True)\n",
    "        image_resized = resize(image,(height , width),anti_aliasing=True)\n",
    "        data[i,:] = np.asarray(image_resized).reshape(-1)\n",
    "    data = pd.DataFrame(data,columns=[str(i) for i in range(width*height)])\n",
    "    return data"
   ]
  },
  {
   "cell_type": "code",
   "execution_count": 76,
   "metadata": {},
   "outputs": [],
   "source": [
    "path_con = \"C:/Users/juank/Dropbox/Semestre_7/Machine_Learning/data_tapabocas/con_tapabocas\"\n",
    "path_sin = \"C:/Users/juank/Dropbox/Semestre_7/Machine_Learning/data_tapabocas/sin_tapabocas\"\n",
    "width = 72\n",
    "height = 128\n",
    "df_con = load_data(path_con,width,height)\n",
    "df_sin = load_data(path_sin,width,height)"
   ]
  },
  {
   "cell_type": "code",
   "execution_count": 60,
   "metadata": {},
   "outputs": [
    {
     "name": "stdout",
     "output_type": "stream",
     "text": [
      "(21, 9216)\n",
      "(20, 9216)\n"
     ]
    }
   ],
   "source": [
    "print(df_con.shape)\n",
    "print(df_sin.shape)\n",
    "df = pd.DataFrame(np.concatenate([df_con,df_sin],axis=0), columns = df_con.columns)\n",
    "df[\"mask_on\"] = np.array([1]*df_con.shape[0] + [0]*df_sin.shape[0])\n",
    "df = df.sample(frac=1)"
   ]
  },
  {
   "cell_type": "code",
   "execution_count": 61,
   "metadata": {},
   "outputs": [
    {
     "data": {
      "text/html": [
       "<div>\n",
       "<style scoped>\n",
       "    .dataframe tbody tr th:only-of-type {\n",
       "        vertical-align: middle;\n",
       "    }\n",
       "\n",
       "    .dataframe tbody tr th {\n",
       "        vertical-align: top;\n",
       "    }\n",
       "\n",
       "    .dataframe thead th {\n",
       "        text-align: right;\n",
       "    }\n",
       "</style>\n",
       "<table border=\"1\" class=\"dataframe\">\n",
       "  <thead>\n",
       "    <tr style=\"text-align: right;\">\n",
       "      <th></th>\n",
       "      <th>0</th>\n",
       "      <th>1</th>\n",
       "      <th>2</th>\n",
       "      <th>3</th>\n",
       "      <th>4</th>\n",
       "      <th>5</th>\n",
       "      <th>6</th>\n",
       "      <th>7</th>\n",
       "      <th>8</th>\n",
       "      <th>9</th>\n",
       "      <th>...</th>\n",
       "      <th>9207</th>\n",
       "      <th>9208</th>\n",
       "      <th>9209</th>\n",
       "      <th>9210</th>\n",
       "      <th>9211</th>\n",
       "      <th>9212</th>\n",
       "      <th>9213</th>\n",
       "      <th>9214</th>\n",
       "      <th>9215</th>\n",
       "      <th>mask_on</th>\n",
       "    </tr>\n",
       "  </thead>\n",
       "  <tbody>\n",
       "    <tr>\n",
       "      <th>9</th>\n",
       "      <td>0.673712</td>\n",
       "      <td>0.668589</td>\n",
       "      <td>0.657381</td>\n",
       "      <td>0.655152</td>\n",
       "      <td>0.659804</td>\n",
       "      <td>0.657715</td>\n",
       "      <td>0.649664</td>\n",
       "      <td>0.643483</td>\n",
       "      <td>0.642445</td>\n",
       "      <td>0.641218</td>\n",
       "      <td>...</td>\n",
       "      <td>0.380772</td>\n",
       "      <td>0.378526</td>\n",
       "      <td>0.229850</td>\n",
       "      <td>0.288693</td>\n",
       "      <td>0.469107</td>\n",
       "      <td>0.512106</td>\n",
       "      <td>0.526431</td>\n",
       "      <td>0.555686</td>\n",
       "      <td>0.579604</td>\n",
       "      <td>1</td>\n",
       "    </tr>\n",
       "    <tr>\n",
       "      <th>16</th>\n",
       "      <td>0.479534</td>\n",
       "      <td>0.477747</td>\n",
       "      <td>0.486388</td>\n",
       "      <td>0.574758</td>\n",
       "      <td>0.589286</td>\n",
       "      <td>0.584315</td>\n",
       "      <td>0.364553</td>\n",
       "      <td>0.441822</td>\n",
       "      <td>0.400314</td>\n",
       "      <td>0.360930</td>\n",
       "      <td>...</td>\n",
       "      <td>0.279212</td>\n",
       "      <td>0.278056</td>\n",
       "      <td>0.271242</td>\n",
       "      <td>0.267067</td>\n",
       "      <td>0.261666</td>\n",
       "      <td>0.256782</td>\n",
       "      <td>0.256090</td>\n",
       "      <td>0.255030</td>\n",
       "      <td>0.259705</td>\n",
       "      <td>1</td>\n",
       "    </tr>\n",
       "    <tr>\n",
       "      <th>27</th>\n",
       "      <td>0.927410</td>\n",
       "      <td>0.932512</td>\n",
       "      <td>0.936917</td>\n",
       "      <td>0.943463</td>\n",
       "      <td>0.951398</td>\n",
       "      <td>0.958142</td>\n",
       "      <td>0.965493</td>\n",
       "      <td>0.969615</td>\n",
       "      <td>0.972305</td>\n",
       "      <td>0.976393</td>\n",
       "      <td>...</td>\n",
       "      <td>0.364676</td>\n",
       "      <td>0.380318</td>\n",
       "      <td>0.349866</td>\n",
       "      <td>0.335801</td>\n",
       "      <td>0.325940</td>\n",
       "      <td>0.316771</td>\n",
       "      <td>0.326206</td>\n",
       "      <td>0.346864</td>\n",
       "      <td>0.370612</td>\n",
       "      <td>0</td>\n",
       "    </tr>\n",
       "    <tr>\n",
       "      <th>10</th>\n",
       "      <td>0.506074</td>\n",
       "      <td>0.507949</td>\n",
       "      <td>0.512580</td>\n",
       "      <td>0.513993</td>\n",
       "      <td>0.515096</td>\n",
       "      <td>0.515203</td>\n",
       "      <td>0.516741</td>\n",
       "      <td>0.517311</td>\n",
       "      <td>0.521036</td>\n",
       "      <td>0.523645</td>\n",
       "      <td>...</td>\n",
       "      <td>0.427159</td>\n",
       "      <td>0.431209</td>\n",
       "      <td>0.438848</td>\n",
       "      <td>0.433876</td>\n",
       "      <td>0.412276</td>\n",
       "      <td>0.408612</td>\n",
       "      <td>0.408743</td>\n",
       "      <td>0.378064</td>\n",
       "      <td>0.369202</td>\n",
       "      <td>1</td>\n",
       "    </tr>\n",
       "    <tr>\n",
       "      <th>7</th>\n",
       "      <td>0.693578</td>\n",
       "      <td>0.719368</td>\n",
       "      <td>0.715441</td>\n",
       "      <td>0.713789</td>\n",
       "      <td>0.719102</td>\n",
       "      <td>0.731281</td>\n",
       "      <td>0.738810</td>\n",
       "      <td>0.744845</td>\n",
       "      <td>0.753127</td>\n",
       "      <td>0.765367</td>\n",
       "      <td>...</td>\n",
       "      <td>0.317282</td>\n",
       "      <td>0.332105</td>\n",
       "      <td>0.338403</td>\n",
       "      <td>0.334767</td>\n",
       "      <td>0.336747</td>\n",
       "      <td>0.340084</td>\n",
       "      <td>0.346526</td>\n",
       "      <td>0.351830</td>\n",
       "      <td>0.254755</td>\n",
       "      <td>1</td>\n",
       "    </tr>\n",
       "  </tbody>\n",
       "</table>\n",
       "<p>5 rows × 9217 columns</p>\n",
       "</div>"
      ],
      "text/plain": [
       "           0         1         2         3         4         5         6  \\\n",
       "9   0.673712  0.668589  0.657381  0.655152  0.659804  0.657715  0.649664   \n",
       "16  0.479534  0.477747  0.486388  0.574758  0.589286  0.584315  0.364553   \n",
       "27  0.927410  0.932512  0.936917  0.943463  0.951398  0.958142  0.965493   \n",
       "10  0.506074  0.507949  0.512580  0.513993  0.515096  0.515203  0.516741   \n",
       "7   0.693578  0.719368  0.715441  0.713789  0.719102  0.731281  0.738810   \n",
       "\n",
       "           7         8         9  ...      9207      9208      9209      9210  \\\n",
       "9   0.643483  0.642445  0.641218  ...  0.380772  0.378526  0.229850  0.288693   \n",
       "16  0.441822  0.400314  0.360930  ...  0.279212  0.278056  0.271242  0.267067   \n",
       "27  0.969615  0.972305  0.976393  ...  0.364676  0.380318  0.349866  0.335801   \n",
       "10  0.517311  0.521036  0.523645  ...  0.427159  0.431209  0.438848  0.433876   \n",
       "7   0.744845  0.753127  0.765367  ...  0.317282  0.332105  0.338403  0.334767   \n",
       "\n",
       "        9211      9212      9213      9214      9215  mask_on  \n",
       "9   0.469107  0.512106  0.526431  0.555686  0.579604        1  \n",
       "16  0.261666  0.256782  0.256090  0.255030  0.259705        1  \n",
       "27  0.325940  0.316771  0.326206  0.346864  0.370612        0  \n",
       "10  0.412276  0.408612  0.408743  0.378064  0.369202        1  \n",
       "7   0.336747  0.340084  0.346526  0.351830  0.254755        1  \n",
       "\n",
       "[5 rows x 9217 columns]"
      ]
     },
     "execution_count": 61,
     "metadata": {},
     "output_type": "execute_result"
    }
   ],
   "source": [
    "df.head()"
   ]
  },
  {
   "cell_type": "markdown",
   "metadata": {},
   "source": [
    "----"
   ]
  },
  {
   "cell_type": "markdown",
   "metadata": {},
   "source": [
    "## Implementación de redes neuronales\n",
    "### Separación de datos de entrenamiento y de prueba"
   ]
  },
  {
   "cell_type": "code",
   "execution_count": 68,
   "metadata": {},
   "outputs": [],
   "source": [
    "X = df.iloc[:,:-1]\n",
    "y = df[\"mask_on\"]\n",
    "X_train,X_test,y_train,y_test = train_test_split(X,y,test_size=0.2, random_state=42)"
   ]
  },
  {
   "cell_type": "code",
   "execution_count": 69,
   "metadata": {},
   "outputs": [
    {
     "name": "stdout",
     "output_type": "stream",
     "text": [
      "32\n",
      "9\n"
     ]
    }
   ],
   "source": [
    "print(len(X_train))\n",
    "print(len(X_test))"
   ]
  },
  {
   "cell_type": "code",
   "execution_count": 77,
   "metadata": {},
   "outputs": [],
   "source": [
    "# Inicializando los parametros de la red neuronal\n",
    "\n",
    "from keras import models\n",
    "from keras import layers\n",
    "\n",
    "network = models.Sequential()\n",
    "network.add(layers.Dense(512, activation='sigmoid', input_shape=(width*height,)))\n",
    "network.add(layers.Dense(10,activation='sigmoid'))\n",
    "network.compile(optimizer = 'rmsprop',\n",
    "                loss='categorical_crossentropy',\n",
    "               metrics=['accuracy'])"
   ]
  },
  {
   "cell_type": "code",
   "execution_count": null,
   "metadata": {},
   "outputs": [],
   "source": [
    "network.fit(X_train, y_train, epochs=7, batch_size = 128)"
   ]
  }
 ],
 "metadata": {
  "kernelspec": {
   "display_name": "Python 3",
   "language": "python",
   "name": "python3"
  },
  "language_info": {
   "codemirror_mode": {
    "name": "ipython",
    "version": 3
   },
   "file_extension": ".py",
   "mimetype": "text/x-python",
   "name": "python",
   "nbconvert_exporter": "python",
   "pygments_lexer": "ipython3",
   "version": "3.8.3"
  }
 },
 "nbformat": 4,
 "nbformat_minor": 4
}
