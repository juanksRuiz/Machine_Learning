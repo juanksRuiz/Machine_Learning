{
 "cells": [
  {
   "cell_type": "markdown",
   "metadata": {},
   "source": [
    "# Clustering II: El problema del Profesor Santiago\n",
    "\n",
    "El Profesor Santiago se encuentra realizando un proyecto de investigación para la detección de una enfermedad que afecta a las célulals de la sangre. Sin embargo, se acaba de dar cuenta que una parte muy importante de su trabajo esta en el computador de la oficina. Debido a la contingencia del COVID, el profesor Santiago no quiere salir de su casa. Él se enteró que los estudiantes del curso de de Aprendizaje automático de máquinas son expertos en k-means, por esta razón se comunicó con el profesor Alexander para ver si los estudiantes podian ayudarlo a implementar el algoritmo que reposa en su computador de oficina. El profesor Alexander aprovechó esta oportunidad para evaluar sus conocimientos en clustering. Lo que el profesor Santiago quiere es que ustedes por medio de técnicas de clustering desarrollen un algoritmo para segmentar una imagen de células en diferentes componentes a las cuales el más adelante puede colocar un label, tal como: citoplasma, nucleo, etc... Para esto el profesor Santiago nos facilitó un pequeño dataset de imagenes de células que el necesita segmentar con urgencia. Este dataset se encuentra en la carpeta *data_set*.\n",
    "\n",
    "Para realizar este proyecto el profesor Alexander lo organizó en las siguientes tareas:\n",
    "\n",
    "1. Cargar los datos de las imagenes en Python usando la libreria cv2.\n",
    "2. Utilizando sus conociientos en clustering desarrollen un algoritmo que sea capaz de segmentar la imágen en diferentes componentes, asociadas con color.\n",
    "3. Realicen esta operación para todas las imágenes del dataset. ¿funciona bien el algoritmo?\n",
    "4. En caso que sea necesario incluya modificaciones al algorimo, o su salida, para obtener mejores resultados.\n",
    "\n",
    "Como el objetivo es evaluar sus conocimientos en agrupamiento, el profesor Alexander también quiere que contesten las siguientes preguntas:\n",
    "\n",
    "1. ¿Qué puede observar de los datos del problema?\n",
    "2. ¿Se tuvó que realizar algun tipo de transformación a los datos?, ¿Porqué?\n",
    "3. ¿Qué mejoras tuvo que hacer en el algoritmo de salida?, ¿Porqué tuvó que hacer estas mejoras?\n",
    "4. ¿Cómo escogio el valor de $K$?\n",
    "5. ¿Son los centrodides de los clusters similares para todas las imagenes? ¿Si, no, porqué?\n",
    "5. ¿Qué puede concluir al final de este proyecto?, escriba su opinión frente a los metodos de clustering y como se aplicó en este proyecto.\n",
    "\n",
    "Finalmente, el profesor Alexander les pide que entreguen el notebook de jupyter con el código documentado con el análisis de cada una de las partes, es decir una explicación de que hace en cada parte del código; además, deben incluir las respuestas a las preguntas realizadas. Al entregar el notebook, por favor use la convención Nombre1__Apellido1_Clustering_2_ML.\n",
    "\n",
    "**Nota:** Recuerden que tienen hasta el **Domingo 6 de Septiembre** a las 12 de la noche para entregar sus notebooks. Mucha suerte!!\n",
    "\n"
   ]
  },
  {
   "cell_type": "code",
   "execution_count": null,
   "metadata": {},
   "outputs": [],
   "source": []
  }
 ],
 "metadata": {
  "kernelspec": {
   "display_name": "Python 3",
   "language": "python",
   "name": "python3"
  },
  "language_info": {
   "codemirror_mode": {
    "name": "ipython",
    "version": 3
   },
   "file_extension": ".py",
   "mimetype": "text/x-python",
   "name": "python",
   "nbconvert_exporter": "python",
   "pygments_lexer": "ipython3",
   "version": "3.7.0"
  }
 },
 "nbformat": 4,
 "nbformat_minor": 2
}
