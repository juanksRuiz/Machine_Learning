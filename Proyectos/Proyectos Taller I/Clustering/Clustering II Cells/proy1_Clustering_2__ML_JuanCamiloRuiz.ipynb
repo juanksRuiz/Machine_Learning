{
 "cells": [
  {
   "cell_type": "markdown",
   "metadata": {},
   "source": [
    "## Clustering II: El problema de Santiago\n",
    "### Problema:\n",
    "El problema consiste en segmentar imágenes de células sanguíneas. \n",
    "Note que cada imagen se puede ver como un tensor de 3 capas (n x m x 3), cada capa correspondiente al color  rojo, verde y azul. Por lo tanto, cada imagen puede verse como un dataset donde cada fila corresponde a los valores rojo, verde y azul de un pixel de la imagen, es decir el dataset es una matriz de $m\\times n$ filas y 3 columnas. Para lograr  la segmentación de una imágen se propone la siguiente metodología:\n",
    "1.  Extraer de las imágenes la información de cada pixel tal que se obtenga la matriz de información por pixeles de dimención ($mn\\times 3$)\n",
    "2. Aplicar k-means como técnica de agrupamiento para encontrar los pixeles similares por su color\n",
    "\n",
    "3. Determinar el mejor valor de k, que corresponde al número de regiones de la segmentación\n",
    "\n",
    "4. Indicar a en las imágenes a qué corresponde cada región de la imagen"
   ]
  },
  {
   "cell_type": "markdown",
   "metadata": {},
   "source": [
    "## Cargamos la base de datos con las imágenes de las células"
   ]
  },
  {
   "cell_type": "code",
   "execution_count": 12,
   "metadata": {},
   "outputs": [],
   "source": [
    "import numpy as np\n",
    "import os\n",
    "import skimage\n",
    "from skimage import io\n",
    "from sklearn.cluster import KMeans\n",
    "\n",
    "import seaborn as sns\n",
    "sns.set()"
   ]
  },
  {
   "cell_type": "code",
   "execution_count": 13,
   "metadata": {},
   "outputs": [],
   "source": [
    "files = os.listdir(\"./data_test/\")[1:]\n",
    "data = []\n",
    "for i in range(1,len(files)+1):\n",
    "    data.append(io.imread(\"./data_test/\"+str(i)+\".jpg\"))\n",
    "    \n",
    "# Ahora todas las imagenes están en la lista data"
   ]
  },
  {
   "cell_type": "code",
   "execution_count": 34,
   "metadata": {},
   "outputs": [
    {
     "data": {
      "text/plain": [
       "array([192, 160, 165], dtype=uint8)"
      ]
     },
     "execution_count": 34,
     "metadata": {},
     "output_type": "execute_result"
    }
   ],
   "source": [
    "a = data[0][0,0,:]\n",
    "a"
   ]
  },
  {
   "cell_type": "markdown",
   "metadata": {},
   "source": [
    "## 1.  Extraer de las imágenes la información de cada pixel\n",
    " Así obtenemos una matriz de información por pixeles de dimención ($mn\\times 3$)."
   ]
  },
  {
   "cell_type": "code",
   "execution_count": 14,
   "metadata": {},
   "outputs": [],
   "source": [
    "def img_to_matrix(img):\n",
    "    \"\"\"\n",
    "    Transforma la información de una imagen de dimensiones (m,n,3) a una matriz de tamaño (mn x 3) con información de pixeles\n",
    "    \n",
    "    args:\n",
    "        img: imagen a color\n",
    "    \n",
    "    retorna:\n",
    "        matriz de tamaño (mn x 3)\n",
    "    \"\"\"\n",
    "    m = img.shape[0]\n",
    "    n = img.shape[1]\n",
    "    row = 0\n",
    "    mat = np.zeros([m*n,3]) # alocating memory\n",
    "    for i in range(m):\n",
    "        for j in range(n):\n",
    "            mat[row,:] = img[i,j,:]\n",
    "            row+=1\n",
    "    return mat"
   ]
  },
  {
   "cell_type": "code",
   "execution_count": 15,
   "metadata": {},
   "outputs": [],
   "source": [
    "X = img_to_matrix(data[0])"
   ]
  },
  {
   "cell_type": "code",
   "execution_count": 16,
   "metadata": {},
   "outputs": [
    {
     "data": {
      "text/plain": [
       "array([[192., 160., 165.],\n",
       "       [191., 159., 164.],\n",
       "       [193., 158., 164.],\n",
       "       ...,\n",
       "       [200., 168., 173.],\n",
       "       [203., 171., 174.],\n",
       "       [205., 173., 176.]])"
      ]
     },
     "execution_count": 16,
     "metadata": {},
     "output_type": "execute_result"
    }
   ],
   "source": [
    "X"
   ]
  },
  {
   "cell_type": "markdown",
   "metadata": {},
   "source": [
    "## 2. Aplicar k-means\n",
    "Así se agrupa los pixeles similares por su color."
   ]
  },
  {
   "cell_type": "code",
   "execution_count": 17,
   "metadata": {},
   "outputs": [],
   "source": [
    "km = KMeans(init=\"random\",n_clusters=3,random_state=42)"
   ]
  },
  {
   "cell_type": "code",
   "execution_count": 18,
   "metadata": {},
   "outputs": [
    {
     "data": {
      "text/plain": [
       "KMeans(algorithm='auto', copy_x=True, init='random', max_iter=300,\n",
       "    n_clusters=3, n_init=10, n_jobs=1, precompute_distances='auto',\n",
       "    random_state=42, tol=0.0001, verbose=0)"
      ]
     },
     "execution_count": 18,
     "metadata": {},
     "output_type": "execute_result"
    }
   ],
   "source": [
    "km.fit(X)"
   ]
  },
  {
   "cell_type": "code",
   "execution_count": 19,
   "metadata": {},
   "outputs": [
    {
     "data": {
      "text/plain": [
       "56948860.63950148"
      ]
     },
     "execution_count": 19,
     "metadata": {},
     "output_type": "execute_result"
    }
   ],
   "source": [
    "# The lowest SSE value\n",
    "km.inertia_"
   ]
  },
  {
   "cell_type": "code",
   "execution_count": 20,
   "metadata": {},
   "outputs": [
    {
     "data": {
      "text/plain": [
       "array([[105.61218477,  50.78776809, 144.94791421],\n",
       "       [245.46040326, 219.53664116, 195.38341633],\n",
       "       [199.17087477, 163.18980438, 168.53884829]])"
      ]
     },
     "execution_count": 20,
     "metadata": {},
     "output_type": "execute_result"
    }
   ],
   "source": [
    "km.cluster_centers_"
   ]
  },
  {
   "cell_type": "markdown",
   "metadata": {},
   "source": [
    "## 3. Determinar el mejor valor de k\n",
    "El mejor valor k corresponde al número de regiones de la segmentación.\n",
    "\n",
    "https://realpython.com/k-means-clustering-python/"
   ]
  },
  {
   "cell_type": "code",
   "execution_count": 27,
   "metadata": {},
   "outputs": [],
   "source": []
  },
  {
   "cell_type": "code",
   "execution_count": 36,
   "metadata": {},
   "outputs": [],
   "source": [
    "def iterate_K(X,max_groups):\n",
    "    \"\"\"\n",
    "    Calcula la suma de errores cuadráticos (SSE) para un valores de k de 1 hasta max_groups\n",
    "    \n",
    "    args:\n",
    "        X: matriz de datos\n",
    "        max_groups: número máximo de grupos con el que se prueba\n",
    "        \n",
    "    returna:\n",
    "        la lista de ks de 1 hasta max_groups, la lista de SSE para cada k y un diccionario con sus modelos asociados\n",
    "    \"\"\"\n",
    "    sse = []\n",
    "    models = {}\n",
    "    for k in range(1,max_groups+1):\n",
    "        models[k] = KMeans(init=\"random\",n_clusters=k,random_state=42)\n",
    "        models[k].fit(X)\n",
    "        sse.append(models[k].inertia_)\n",
    "    return range(1,max_groups+1), sse, models"
   ]
  },
  {
   "cell_type": "markdown",
   "metadata": {},
   "source": [
    "Graficamos la evolución de el SSE en función de los valores k."
   ]
  },
  {
   "cell_type": "code",
   "execution_count": 37,
   "metadata": {},
   "outputs": [],
   "source": [
    "ks_1, sse_1, km_models_1 = iterate_K(X,7)"
   ]
  },
  {
   "cell_type": "code",
   "execution_count": 38,
   "metadata": {},
   "outputs": [
    {
     "data": {
      "text/plain": [
       "{1: KMeans(algorithm='auto', copy_x=True, init='random', max_iter=300,\n",
       "     n_clusters=1, n_init=10, n_jobs=1, precompute_distances='auto',\n",
       "     random_state=42, tol=0.0001, verbose=0),\n",
       " 2: KMeans(algorithm='auto', copy_x=True, init='random', max_iter=300,\n",
       "     n_clusters=2, n_init=10, n_jobs=1, precompute_distances='auto',\n",
       "     random_state=42, tol=0.0001, verbose=0),\n",
       " 3: KMeans(algorithm='auto', copy_x=True, init='random', max_iter=300,\n",
       "     n_clusters=3, n_init=10, n_jobs=1, precompute_distances='auto',\n",
       "     random_state=42, tol=0.0001, verbose=0),\n",
       " 4: KMeans(algorithm='auto', copy_x=True, init='random', max_iter=300,\n",
       "     n_clusters=4, n_init=10, n_jobs=1, precompute_distances='auto',\n",
       "     random_state=42, tol=0.0001, verbose=0),\n",
       " 5: KMeans(algorithm='auto', copy_x=True, init='random', max_iter=300,\n",
       "     n_clusters=5, n_init=10, n_jobs=1, precompute_distances='auto',\n",
       "     random_state=42, tol=0.0001, verbose=0),\n",
       " 6: KMeans(algorithm='auto', copy_x=True, init='random', max_iter=300,\n",
       "     n_clusters=6, n_init=10, n_jobs=1, precompute_distances='auto',\n",
       "     random_state=42, tol=0.0001, verbose=0),\n",
       " 7: KMeans(algorithm='auto', copy_x=True, init='random', max_iter=300,\n",
       "     n_clusters=7, n_init=10, n_jobs=1, precompute_distances='auto',\n",
       "     random_state=42, tol=0.0001, verbose=0)}"
      ]
     },
     "execution_count": 38,
     "metadata": {},
     "output_type": "execute_result"
    }
   ],
   "source": []
  },
  {
   "cell_type": "code",
   "execution_count": 30,
   "metadata": {},
   "outputs": [
    {
     "data": {
      "text/plain": [
       "[Text(0,0.5,'SSE'), Text(0.5,0,'k')]"
      ]
     },
     "execution_count": 30,
     "metadata": {},
     "output_type": "execute_result"
    },
    {
     "data": {
      "image/png": "[encoded data removed]",
      "text/plain": [
       "<Figure size 432x288 with 1 Axes>"
      ]
     },
     "metadata": {},
     "output_type": "display_data"
    }
   ],
   "source": [
    "ax = sns.lineplot(x=range(1,max_groups+1),y=sse)\n",
    "ax.set(xlabel=\"k\", ylabel=\"SSE\")"
   ]
  },
  {
   "cell_type": "markdown",
   "metadata": {},
   "source": [
    "De la gráfica anterior podemos ver que el mejor k en el cual se hace un mejor agrupamiento es con k = 3."
   ]
  },
  {
   "cell_type": "code",
   "execution_count": null,
   "metadata": {},
   "outputs": [],
   "source": []
  }
 ],
 "metadata": {
  "kernelspec": {
   "display_name": "Python 3",
   "language": "python",
   "name": "python3"
  },
  "language_info": {
   "codemirror_mode": {
    "name": "ipython",
    "version": 3
   },
   "file_extension": ".py",
   "mimetype": "text/x-python",
   "name": "python",
   "nbconvert_exporter": "python",
   "pygments_lexer": "ipython3",
   "version": "3.7.0"
  }
 },
 "nbformat": 4,
 "nbformat_minor": 2
}
