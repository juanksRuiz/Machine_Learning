{
 "cells": [
  {
   "cell_type": "markdown",
   "metadata": {},
   "source": [
    "# Clustering I: El probelma del Pintor\n",
    "\n",
    "Un estudiante de pintura quiere realizar un cuadro como trabajo final de su curso. Entre los cuadros que puede escoger para el proyecto se encuentran:\n",
    "\n",
    "* El jardin de las Delicias de Bosch\n",
    "* El nacimiento de enuza de Boticelli\n",
    "* La persistencia de la memoria de Dali.\n",
    "* La For de Loto de Monet\n",
    "* Las señoritas de Aviñón de Picaso.\n",
    "* La noche estrellada de Van Gogh\n",
    "* Las Meninas de Velazquez\n",
    "* La chica de la perla de Vermeer\n",
    "\n",
    "Sin embargo, debido a la situación de la cuarentena tiene mucho trabajo. El quiere un cuadro donde no tenga que utilizar más de 15 tonos diferentes, además quiere saber como se veria el cuadro resultante utilizando solamente esos 15 tonos. El ha escuchado que los alumnos de MACC pueden colaborarle utilizando algunas técnicas de Machine Learning. Es por esto que el ha pedido nuestra ayuda. Para esto, el contactó al profesor Alexander, quien decidió utilizar esta oportunidad para evaluar sus conocimientos en Clustering (agrupamiento). Para esto el profesor dividio el problema en las siguientes tareas:\n",
    "\n",
    "1. Cargar los datos de las imagenes en Python usando la libreria cv2. Las imagenes se encuentran eadjuntas en esta carpeta.\n",
    "2. Utilizando sus conociientos en clustering identifiquen una paleta de colores adecuada, cumpliendo con la condicion de que no se deben obtener mas de 15 colores.\n",
    "3. Una vez identificada la paleta de colores, utilicen esa infomración para evaluar como se veria visualmente la pintura si se utilizarán solo esos colores.\n",
    "4. Con base en los resultados obtenidos identifiquen cual de las pinturas debería ser utilizada para le proyecto final del estudiante de pintura. Además porporcionele la paleta de colores necesarioa y una muestra visual de como luciría la pintura.\n",
    "\n",
    "Como el objetivo es evaluar sus conocimientos en agrupamiento, el profesor Alexander también quiere que contesten las siguientes preguntas:\n",
    "\n",
    "1. ¿Qué puede observar de los datos del problema?\n",
    "2. ¿Se tuvó qu erealizar algun tipo de transformación a lso datos?,, ¿Porqué?\n",
    "3. ¿Cuál fue el criterio para escoger la pintura que recomendará al estudiante para pintar?\n",
    "4. ¿El algoritmo tuvo un performance similar para todas las pinturas, o no?¿Porqué se comporto así?\n",
    "5. ¿Qué puede concluir al final de este proyecto?, escriba su opinión frente a los metodos de clustering y como se aplicó en este proyecto.\n",
    "\n",
    "Finalmente el profesor Alexander les pide que entreguen el notebook de jupyter con el código documentado y el análisis de cad aun ade las partes. Al entregar el notebook, por favor use la convención Nombre1__Apellido1_Clustering_1_ML.\n",
    "\n",
    "**Nota:** Recuerden que tienen hasta el **Domingo 6 de Septiembre** a las 12 de la noche para entregar sus notebooks. Mucha suerte!!\n"
   ]
  },
  {
   "cell_type": "code",
   "execution_count": null,
   "metadata": {},
   "outputs": [],
   "source": []
  }
 ],
 "metadata": {
  "kernelspec": {
   "display_name": "Python 3",
   "language": "python",
   "name": "python3"
  },
  "language_info": {
   "codemirror_mode": {
    "name": "ipython",
    "version": 3
   },
   "file_extension": ".py",
   "mimetype": "text/x-python",
   "name": "python",
   "nbconvert_exporter": "python",
   "pygments_lexer": "ipython3",
   "version": "3.7.4"
  }
 },
 "nbformat": 4,
 "nbformat_minor": 2
}
