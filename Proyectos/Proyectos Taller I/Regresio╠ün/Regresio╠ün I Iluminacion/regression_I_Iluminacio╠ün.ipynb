{
 "cells": [
  {
   "cell_type": "markdown",
   "metadata": {},
   "source": [
    "# Regresión I: El problema de la Iluminación\n",
    "\n",
    "Un amigo del profesor Alexander es fotografo, y estaba haciendo un foto estudio para un trabajo. Sin embargo, al finalizar se dio cuenta qu ela luz estaba muy mal ubicada, lo cual ocasionaba que partes de la cara de la modelo quedaran tan oscuras que no se podian observar. El le comentó sobre este problema al profesor Alexander, quien en esos momentos se encontraba preparando los ejercicios de evaluación sobre regresión par alos estudiantes de Aprendizaje Automatico de Máquinas. Para poder ayudar a su amigo el profesor Alexander decidio formular un porblema de regresión  a los estudiantes de MACC, el cual puede ser utilizado par mejorar la caldiad de las fotografias de su amigo. Debido a qu el aidentidad de la modelo se debe proteger, el profesor Alexander busco una base de datos publica, y encontro la [Yale Faces Database](http://vision.ucsd.edu/~leekc/ExtYaleDatabase/ExtYaleB.html). De estas extrajo a un sujeto, que presentaba en las fotografias problemas similares a los que su amigo experimentaba con las fotos que habia acquirido. Estas fotos están disponibles en el folder adjunto.\n",
    "\n",
    "Para ayudar a su amigo el Profesor Alexander dividio el problema en las siguientes tareas:\n",
    "\n",
    "1. Cargen las imagenes utilizando la libreria cv2.\n",
    "2. Piensen como deberia ser el problema de regresión, formule el problema y aplique una regresion lineal multivariable normal, y una regularizada.\n",
    "3. Modifique la matriz de regresores para obtener una estimación no lineal de los cambios en iluminación.\n",
    "4. Implemente una regresión utilizando LASSO.\n",
    "5. Implemente el problema para que trabaje en la foto a color que se incluye en el archivo.\n",
    "\n",
    "Como el objetivo es evaluar sus conocimientos en clasificación, el profesor Alexander también quiere que contesten las siguientes preguntas:\n",
    "\n",
    "1. ¿Qué modificación le hizó a la matriz de regresores? ¿Porqué hizó esos cambios?\n",
    "2. ¿Que diferencias encuentra entre la regresión regularizada y la no regularizada?, ¿Cuál es mejor en su opinió? ¿Porqué?\n",
    "3. ¿Cómo son lso resultados proporcionados por LASSO, comparados con los que obtuvo con la regresion regularizada?\n",
    "4. ¿Qué mejoras le haría al algoritmo? ¿Es un modelo lineal suficiente para solucionar este problema?\n",
    "5. ¿Qué puede concluir al final de este proyecto?, ¿Cómo se comporta el algoritmo par ala fotoa color? escriba su opinión frente a los metodos de regresión y como se aplicó en este proyecto.\n",
    "\n",
    "Finalmente, el profesor Alexander les pide que entreguen el notebook de jupyter con el código documentado con el análisis de cada una de las partes, es decir una explicación de que hace en cada parte del código; además, deben incluir las respuestas a las preguntas realizadas. Al entregar el notebook, por favor use la convención Nombre1__Apellido1_Regresión_1_ML.\n",
    "\n",
    "**Nota:** Recuerden que tienen hasta el **Domingo 6 de Septiembre** a las 12 de la noche para entregar sus notebooks. Mucha suerte!!\n",
    "\n"
   ]
  },
  {
   "cell_type": "code",
   "execution_count": null,
   "metadata": {},
   "outputs": [],
   "source": []
  }
 ],
 "metadata": {
  "kernelspec": {
   "display_name": "Python 3",
   "language": "python",
   "name": "python3"
  },
  "language_info": {
   "codemirror_mode": {
    "name": "ipython",
    "version": 3
   },
   "file_extension": ".py",
   "mimetype": "text/x-python",
   "name": "python",
   "nbconvert_exporter": "python",
   "pygments_lexer": "ipython3",
   "version": "3.7.4"
  }
 },
 "nbformat": 4,
 "nbformat_minor": 2
}
