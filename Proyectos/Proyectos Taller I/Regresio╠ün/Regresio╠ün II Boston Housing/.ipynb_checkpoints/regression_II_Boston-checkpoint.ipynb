{
 "cells": [
  {
   "cell_type": "markdown",
   "metadata": {},
   "source": [
    "# Regresión II: Precio de casas en Boston\n",
    "\n",
    "El profesor alexander es amigo de los clasicos, y en regresión uno de los clasicos es el problema housing Boston dataset. El objetivo en este problema de regresión es construir un modelo para predecir el precio de un acasa en boston. L.os datos se pueden caragar de los dataset que se encuentran en la libreria scikit-learn de python. Par asolucionar este problema el profesor Alexander propone las siguientes tareas:\n",
    "\n",
    "1. Cargen los datos *boston* de la librería scikit learn.\n",
    "2. Piensen como deberia ser el problema de regresión, formule el problema y aplique una regresion lineal multivariable normal, y una regularizada.\n",
    "3. Modifique la matriz de regresores para obtener una estimación no lineal de los cambios en iluminación.\n",
    "4. Implemente una regresión utilizando LASSO.\n",
    "\n",
    "Como el objetivo es evaluar sus conocimientos en clasificación, el profesor Alexander también quiere que contesten las siguientes preguntas:\n",
    "\n",
    "1. ¿Qué modificación le hizó a la matriz de regresores? ¿Porqué hizó esos cambios?\n",
    "2. ¿Que diferencias encuentra entre la regresión regularizada y la no regularizada?, ¿Cuál es mejor en su opinió? ¿Porqué?\n",
    "3. ¿Cómo son los resultados proporcionados por LASSO, comparados con los que obtuvo con la regresion regularizada?\n",
    "4. ¿Qué mejoras le haría al algoritmo? ¿Es un modelo lineal suficiente para solucionar este problema?\n",
    "5. ¿Qué puede concluir si observa lso valores de los parámetros $\\theta$? ¿Es bueno analizar directamente estos valores?\n",
    "6. ¿Qué puede concluir al final de este proyecto?, escriba su opinión frente a los metodos de regresión y como se aplicó en este proyecto.\n",
    "\n",
    "Finalmente, el profesor Alexander les pide que entreguen el notebook de jupyter con el código documentado con el análisis de cada una de las partes, es decir una explicación de que hace en cada parte del código; además, deben incluir las respuestas a las preguntas realizadas. Al entregar el notebook, por favor use la convención Nombre1__Apellido1_Regresión_2_ML.\n",
    "\n",
    "**Nota:** Recuerden que tienen hasta el **Domingo 6 de Septiembre** a las 12 de la noche para entregar sus notebooks. Mucha suerte!!\n",
    "\n"
   ]
  },
  {
   "cell_type": "code",
   "execution_count": null,
   "metadata": {},
   "outputs": [],
   "source": []
  }
 ],
 "metadata": {
  "kernelspec": {
   "display_name": "Python 3",
   "language": "python",
   "name": "python3"
  },
  "language_info": {
   "codemirror_mode": {
    "name": "ipython",
    "version": 3
   },
   "file_extension": ".py",
   "mimetype": "text/x-python",
   "name": "python",
   "nbconvert_exporter": "python",
   "pygments_lexer": "ipython3",
   "version": "3.7.4"
  }
 },
 "nbformat": 4,
 "nbformat_minor": 2
}
