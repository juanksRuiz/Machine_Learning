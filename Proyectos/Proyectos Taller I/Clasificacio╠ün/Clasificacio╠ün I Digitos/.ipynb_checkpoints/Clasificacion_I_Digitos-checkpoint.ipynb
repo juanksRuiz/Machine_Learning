{
 "cells": [
  {
   "cell_type": "raw",
   "metadata": {},
   "source": []
  },
  {
   "cell_type": "raw",
   "metadata": {},
   "source": []
  },
  {
   "cell_type": "markdown",
   "metadata": {},
   "source": [
    "# Clasificación I: El problema de los dígitos\n",
    "\n",
    "EL profesor Alexander estaba buscando información sobre que tipo de problema podia utilizar para evaluar sus conocimientos en Clasificación lineal. En su busqueda el se tropezó con información sobre la base de datos de dígitos que se encuentra en en la libreria de scikit-learn. Está base de dato tiene imagénes de carácteres escritos desde el 0 hasta el 9. El profesor Alexander quiere que ustedes utilicen sus conocimientos en Machine Learning para resolver este problema.\n",
    "\n",
    "Para este proposito el Porfesor Alexander dividio el problema en las siguientes tareas:\n",
    "\n"
   ]
  }
 ],
 "metadata": {
  "kernelspec": {
   "display_name": "Python 3",
   "language": "python",
   "name": "python3"
  },
  "language_info": {
   "codemirror_mode": {
    "name": "ipython",
    "version": 3
   },
   "file_extension": ".py",
   "mimetype": "text/x-python",
   "name": "python",
   "nbconvert_exporter": "python",
   "pygments_lexer": "ipython3",
   "version": "3.7.4"
  }
 },
 "nbformat": 4,
 "nbformat_minor": 2
}
