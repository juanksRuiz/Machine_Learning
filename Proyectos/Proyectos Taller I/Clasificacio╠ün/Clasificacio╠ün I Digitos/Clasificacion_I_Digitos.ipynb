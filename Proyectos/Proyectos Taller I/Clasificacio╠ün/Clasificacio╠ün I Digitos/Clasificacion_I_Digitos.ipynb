{
 "cells": [
  {
   "cell_type": "markdown",
   "metadata": {},
   "source": [
    "# Clasificación I: El problema de los dígitos\n",
    "\n",
    "EL profesor Alexander estaba buscando información sobre que tipo de problema podia utilizar para evaluar sus conocimientos en Clasificación lineal. En su busqueda el se tropezó con información sobre la base de datos de dígitos que se encuentra en en la libreria de scikit-learn. Está base de dato tiene imagénes de carácteres escritos desde el 0 hasta el 9. El profesor Alexander quiere que ustedes utilicen sus conocimientos en Machine Learning para resolver este problema.\n",
    "\n",
    "Para este proposito el Porfesor Alexander dividio el problema en las siguientes tareas:\n",
    "\n",
    "1. Cargen los datos *digits* de la librería scikit learn.\n",
    "2. Implementen un clasificador usando KNN. Determine una forma de evaluar el rendimiento de este clasificador par adiferentes valores de K.\n",
    "3. Implemente un clasificador utiliznado regresión logistica. Para esto desarrolle 10 clasificadores diferentes (porque se tienen 10 clases). Implemente la función de decisión de clase, escogiendo como clase la salida correspondiente al clasificador con mayor probabilidad.\n",
    "4. Para cada uno de los 10 clasificadores, ubique los $\\theta_i$, para $i~= 0$  en una matriz siguiendo el mismo orden que las matrices de los datos de entrenamiento, y realice un mapa de calor para cada clasificador, indicando la clase que detecta.\n",
    "\n",
    "Como el objetivo es evaluar sus conocimientos en clasificación, el profesor Alexander también quiere que contesten las siguientes preguntas:\n",
    "\n",
    "1. ¿Qué influencia tiene el uso de diferentes valores de K en el clasificador KNN?\n",
    "2. ¿Qué diferencias hay entre el clasificador utilizando KNN y regresión logistica? ¿Funciona uno mejor que otro?, ¿Porqué?\n",
    "3. ¿El clasificador de regresión logistica presenta un buen rendimiento? ¿Cómo evaluan su rendimiento?¿Si el rendimiento no es bueno qu ecree se debe hacer para mejorarlo?\n",
    "4. Al realizar el mapa de calor con los pesos de la regresión logistica, par alos diferentes clasificadores, ¿Qué puede notar? ¿Hay algun tipo de patrón?, ¿Sí, no, porqué?\n",
    "5. ¿Qué puede concluir al final de este proyecto?, escriba su opinión frente a los metodos de clasificación y como se aplicó en este proyecto.\n",
    "\n",
    "Finalmente, el profesor Alexander les pide que entreguen el notebook de jupyter con el código documentado con el análisis de cada una de las partes, es decir una explicación de que hace en cada parte del código; además, deben incluir las respuestas a las preguntas realizadas. Al entregar el notebook, por favor use la convención Nombre1__Apellido1_Clasificación_1_ML.\n",
    "\n",
    "**Nota:** Recuerden que tienen hasta el **Domingo 6 de Septiembre** a las 12 de la noche para entregar sus notebooks. Mucha suerte!!\n"
   ]
  },
  {
   "cell_type": "code",
   "execution_count": null,
   "metadata": {},
   "outputs": [],
   "source": []
  }
 ],
 "metadata": {
  "kernelspec": {
   "display_name": "Python 3",
   "language": "python",
   "name": "python3"
  },
  "language_info": {
   "codemirror_mode": {
    "name": "ipython",
    "version": 3
   },
   "file_extension": ".py",
   "mimetype": "text/x-python",
   "name": "python",
   "nbconvert_exporter": "python",
   "pygments_lexer": "ipython3",
   "version": "3.7.4"
  }
 },
 "nbformat": 4,
 "nbformat_minor": 2
}
