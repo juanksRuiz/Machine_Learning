{
 "cells": [
  {
   "cell_type": "markdown",
   "metadata": {},
   "source": [
    "# Clasificación II: Cancer de Seno\n",
    "\n",
    "Las aplicaciones del aprendizaje automatico de máquinas en el campo médico es una de las áreas de trabajo del profesor Alexander. Por esta razón el no podia dejar a un lado utilizar datos de este campo para evaluar el conocimiento de los alumnos en Clasificación lineal. Para este problema el profesor usar ala bas de datos sobre Cancer de Seno. Está base de datos esta descrita en el UCI repository y se puede desargar directamente de la los databease que tiene la libreria scikit-learn de python. Está base de dato tiene un conjunto de datos extraidos de una imagen de seno, estos datos describen las caracteristicas de las masas que pueden ser tumores benignos o malignos. El profesor Alexander quiere que ustedes utilicen sus conocimientos en Machine Learning para diseñar un clasificador que sea capaz de predecir su un tumor de seno es maligno o no, basado en la información porporcionada en la base de datos.\n",
    "\n",
    "Para este proposito el Profesor Alexander dividio el problema en las siguientes tareas:\n",
    "\n",
    "1. Cargen los datos *breast_cancer* de la librería scikit learn.\n",
    "2. Implementen un clasificador usando KNN. Determine una forma de evaluar el rendimiento de este clasificador para diferentes valores de K.\n",
    "3. Implemente un clasificador utilizando regresión logistica. Busque una manera de poder visualizar esos datos de tal forma que se puedan dibujar las regiones de desición en una grafica 2D.\n",
    "4. Analice los valores del parametro $\\theta$ del clasificador, grafiquelos y comparelos con los datos disponibles.\n",
    "\n",
    "Como el objetivo es evaluar sus conocimientos en clasificación, el profesor Alexander también quiere que contesten las siguientes preguntas:\n",
    "\n",
    "1. ¿Qué influencia tiene el uso de diferentes valores de K en el clasificador KNN?\n",
    "2. ¿Qué diferencias hay entre el clasificador utilizando KNN y regresión logistica? ¿Funciona uno mejor que otro?, ¿Porqué?\n",
    "2. ¿El clasificador de regresión logistica presenta un buen rendimiento? ¿Cómo evaluan su rendimiento?¿Si el rendimiento no es bueno que cree se debe hacer para mejorarlo?\n",
    "3. ¿Qué relación tienen los parámetros $\\theta$ con los datos disponibles para cada clase? ¿Esto le genera alguna idea sobre como se pueden inicializar los valores para este clasificador?\n",
    "5. ¿Qué puede concluir al final de este proyecto?, escriba su opinión frente a los metodos de clasificación y como se aplicó en este proyecto.\n",
    "\n",
    "Finalmente, el profesor Alexander les pide que entreguen el notebook de jupyter con el código documentado con el análisis de cada una de las partes, es decir una explicación de que hace en cada parte del código; además, deben incluir las respuestas a las preguntas realizadas. Al entregar el notebook, por favor use la convención Nombre1__Apellido1_Clasificación_2_ML.\n",
    "\n",
    "**Nota:** Recuerden que tienen hasta el **Domingo 6 de Septiembre** a las 12 de la noche para entregar sus notebooks. Mucha suerte!!\n",
    "\n"
   ]
  },
  {
   "cell_type": "code",
   "execution_count": null,
   "metadata": {},
   "outputs": [],
   "source": []
  }
 ],
 "metadata": {
  "kernelspec": {
   "display_name": "Python 3",
   "language": "python",
   "name": "python3"
  },
  "language_info": {
   "codemirror_mode": {
    "name": "ipython",
    "version": 3
   },
   "file_extension": ".py",
   "mimetype": "text/x-python",
   "name": "python",
   "nbconvert_exporter": "python",
   "pygments_lexer": "ipython3",
   "version": "3.7.4"
  }
 },
 "nbformat": 4,
 "nbformat_minor": 2
}
