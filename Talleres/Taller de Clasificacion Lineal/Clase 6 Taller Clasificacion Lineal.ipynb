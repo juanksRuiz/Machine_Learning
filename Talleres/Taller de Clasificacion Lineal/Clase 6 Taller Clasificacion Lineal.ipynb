{
 "cells": [
  {
   "cell_type": "markdown",
   "metadata": {},
   "source": [
    "# Taller de Regresión Lineal\n",
    "\n",
    "En esta clase desarrollaremos varios modelos de Clasificación lineal de dos clases y multiclase.\n",
    "\n",
    "## Clasificación lineal de dos clases\n",
    "\n",
    "Se tiene datos del Iris datase, que puede encontrarse en este [link](https://archive.ics.uci.edu/ml/datasets/iris). El objetivo con este dataset es tratar de identificar el tipo de flor en función de 4 parámetros. Para este primer ejemplo vamos a utilizar solamente los dos primerosrelacionados con el ancho y el largo del sépalo de la flor."
   ]
  },
  {
   "cell_type": "code",
   "execution_count": 1,
   "metadata": {},
   "outputs": [],
   "source": [
    "import matplotlib.pyplot as plt\n",
    "import seaborn as sns\n",
    "sns.set()\n",
    "import numpy as np\n",
    "from sklearn import datasets"
   ]
  },
  {
   "cell_type": "code",
   "execution_count": 2,
   "metadata": {},
   "outputs": [],
   "source": [
    "# import some data to play with\n",
    "iris = datasets.load_iris()\n",
    "X = iris.data[:, :2]  # we only take the first two features\n",
    "y = iris.target"
   ]
  },
  {
   "cell_type": "markdown",
   "metadata": {},
   "source": [
    "De los datos cargados seleccione solamente las clases 0 y 1, y grafiquelas resaltando las dos clases. ‚Qué puede decir de los datos para cada clase?"
   ]
  },
  {
   "cell_type": "code",
   "execution_count": 3,
   "metadata": {},
   "outputs": [],
   "source": [
    "X2 = X[:100, :]  # we only take the first 100 elements since they represent only 2 categories\n",
    "y2 = iris.target[:100]"
   ]
  },
  {
   "cell_type": "markdown",
   "metadata": {},
   "source": [
    "### Regresión Logistica Lineal\n",
    "\n",
    "Implemente un modelo de regresión logística qu epermita clasificar las clases 0 y 1. Una vez el modelo este entrenado gráfique los datos y las regiones de clasificación. Para gráficar las regiones de clasificación, debe evaluar el modelo en una rejilla de datos, de tal forma que se cubra todos los valores que toman las caracteristicas. Para tener una transición suave entre las clases no grafique la clase sino la salida directa del modelo. Esta grafica la puede usar utilizando un mapa de calor. Esto lo puede hacer con la función heatmap de seaborn. ¿Qué conluye de este clasificador?"
   ]
  },
  {
   "cell_type": "code",
   "execution_count": 4,
   "metadata": {},
   "outputs": [
    {
     "data": {
      "text/plain": [
       "<matplotlib.axes._subplots.AxesSubplot at 0x27b53d46048>"
      ]
     },
     "execution_count": 4,
     "metadata": {},
     "output_type": "execute_result"
    },
    {
     "data": {
      "image/png": "[encoded data removed]",
      "text/plain": [
       "<Figure size 432x288 with 1 Axes>"
      ]
     },
     "metadata": {
      "needs_background": "light"
     },
     "output_type": "display_data"
    }
   ],
   "source": [
    "# Grafica de los datos\n",
    "sns.scatterplot(x=X2[:,0],y=X2[:,1],hue=y2)"
   ]
  },
  {
   "cell_type": "markdown",
   "metadata": {},
   "source": [
    "Para hacer la regresión logística nos inspiraremos de la implementación de la regresión lineal y del gradiente descendiente."
   ]
  },
  {
   "cell_type": "markdown",
   "metadata": {},
   "source": [
    "## Funcion de costo para regresión logística\n",
    "La función de costo $J(\\Theta)$ para la regresión logística es igual a :\n",
    "$$\n",
    "J(\\Theta) = -\\frac{1}{m}\\sum_{i=1}^{m}y^{(i)}log(h_{\\theta}(\\boldsymbol{x^{(i)}}) + (1-y^{(i)})log(1-h_{\\theta}(\\boldsymbol{x^{(i)}})\n",
    "$$"
   ]
  },
  {
   "cell_type": "code",
   "execution_count": 8,
   "metadata": {},
   "outputs": [],
   "source": [
    "# Vectorizamos la funcion logistica para que la aplique termino a termino en un arreglo.\n",
    "def g(z):\n",
    "    return(1/(1+np.exp(-z)))\n",
    "logit = np.vectorize(g)"
   ]
  },
  {
   "cell_type": "markdown",
   "metadata": {},
   "source": [
    "## Implementación de la función de costo"
   ]
  },
  {
   "cell_type": "code",
   "execution_count": 9,
   "metadata": {},
   "outputs": [],
   "source": [
    "def J_logit(theta,X,y):\n",
    "    \"\"\"\n",
    "    Calcula la función de costo para la regresión logística\n",
    "    \n",
    "    args:\n",
    "        theta: vector de coeficientes de los regresores (el primero es el independiente)\n",
    "        X: matriz de datos\n",
    "        y: valores de la variable respuesta\n",
    "    \n",
    "    returns:\n",
    "    El valor de la función de costo para los parametros theta dados\n",
    "    \"\"\"\n",
    "    m = len(X)\n",
    "    A = np.concatenate([np.ones([m,1]),X],axis=1)\n",
    "    h = logit(np.matmul(A,theta)) # aplicamos la funcion logistica a cada termino del vector A*theta\n",
    "    res =  -(1/m)*sum(np.multiply(y,np.log(h)) + np.multiply((np.ones([m,1])- y),np.log(np.ones([m,1])-h)) )\n",
    "    return res[0]"
   ]
  },
  {
   "cell_type": "code",
   "execution_count": 10,
   "metadata": {},
   "outputs": [],
   "source": [
    "# Pruebas de que la funcion de costo es correcta\n",
    "theta = np.random.rand(X2.shape[1]+1,1)\n",
    "costo = J_logit(theta,X2,y2)"
   ]
  },
  {
   "cell_type": "markdown",
   "metadata": {},
   "source": [
    "## Gradiente descendiente"
   ]
  },
  {
   "cell_type": "code",
   "execution_count": 28,
   "metadata": {},
   "outputs": [],
   "source": [
    "def grad_descent(X,y,alfa,epochs,J,g):\n",
    "    \"\"\"\n",
    "  Calcula el gradiente para encontrar los parametros optimos theta.\n",
    "\n",
    "  args:\n",
    "    X: matriz de datos\n",
    "    y: valores de la variable respuesta\n",
    "    alfa: tasa de aprendizaje\n",
    "    epochs: numero de actualizaciones de los parametros theta\n",
    "    J: funcion de costo\n",
    "    g: función que se le aplica a theta^T * X\n",
    "\n",
    "  returns:\n",
    "    vector theta con valores optimos theta que minimizan la funcion de costo y lista con el costo calculado dados unos parametros theta\n",
    "    \"\"\"\n",
    "    m = len(X)\n",
    "    y = np.reshape(y,[m,1])\n",
    "    # la primera columna es de 1\n",
    "    A = np.concatenate([np.ones([m,1]),X],axis=1)   \n",
    "    # inicializacion aleatoria de coeficientes\n",
    "    theta = np.random.rand(A.shape[1],1)\n",
    "    print(\"Theta inicial:\")\n",
    "    print(theta)\n",
    "    costo = []\n",
    "    h = g(np.matmul(A,theta)) \n",
    "    new_theta = np.copy(theta)\n",
    "    for k in range(epochs):\n",
    "        for p in range(len(theta)):\n",
    "            if p == 0:\n",
    "                new_theta[p][0] = new_theta[p][0] - alfa*(1/m)*sum(h-y)\n",
    "            else:\n",
    "                new_theta[p][0] = new_theta[p][0] - alfa*(1/m)*sum(np.multiply(h-y,np.reshape(X[:,p-1],[m,1])))\n",
    "        costo.append(J(new_theta,X,y))\n",
    "        h = g(np.matmul(A,new_theta))\n",
    "    return new_theta, costo\n"
   ]
  },
  {
   "cell_type": "markdown",
   "metadata": {},
   "source": [
    "## Prueba de gradiente descendiente con regresión logística"
   ]
  },
  {
   "cell_type": "code",
   "execution_count": 29,
   "metadata": {},
   "outputs": [
    {
     "name": "stdout",
     "output_type": "stream",
     "text": [
      "Theta inicial:\n",
      "[[0.36745264]\n",
      " [0.28339339]\n",
      " [0.67441511]]\n",
      "Optimal theta:\n",
      "[[ 0.10648535]\n",
      " [ 0.77517175]\n",
      " [-1.3842158 ]]\n"
     ]
    }
   ],
   "source": [
    "best_theta, cost = grad_descent(X2,y2,0.01,1000,J_logit,logit)\n",
    "print(\"Optimal theta:\")\n",
    "print(best_theta)"
   ]
  },
  {
   "cell_type": "code",
   "execution_count": 30,
   "metadata": {},
   "outputs": [],
   "source": [
    "# Funcion de prediccion h_theta\n",
    "# NOTA: como sé a qué grupo pertenece si supera 0.5 o no? si > 0.5 es categoria 1\n",
    "# ESTA MAL\n",
    "def predict(X,theta):\n",
    "    A = np.concatenate([np.ones([len(X),1]),X], axis=1)\n",
    "    print(\"A\")\n",
    "    print(A)\n",
    "    h = logit(np.matmul(A,theta))\n",
    "    print(\"h:\")\n",
    "    print(h)\n",
    "    y_pred = np.where(h >= 0.5)\n",
    "    return y_pred\n",
    "    "
   ]
  },
  {
   "cell_type": "code",
   "execution_count": 31,
   "metadata": {},
   "outputs": [
    {
     "name": "stdout",
     "output_type": "stream",
     "text": [
      "A\n",
      "[[1.  5.1 3.5]\n",
      " [1.  4.9 3. ]\n",
      " [1.  4.7 3.2]\n",
      " [1.  4.6 3.1]\n",
      " [1.  5.  3.6]\n",
      " [1.  5.4 3.9]\n",
      " [1.  4.6 3.4]\n",
      " [1.  5.  3.4]\n",
      " [1.  4.4 2.9]\n",
      " [1.  4.9 3.1]\n",
      " [1.  5.4 3.7]\n",
      " [1.  4.8 3.4]\n",
      " [1.  4.8 3. ]\n",
      " [1.  4.3 3. ]\n",
      " [1.  5.8 4. ]\n",
      " [1.  5.7 4.4]\n",
      " [1.  5.4 3.9]\n",
      " [1.  5.1 3.5]\n",
      " [1.  5.7 3.8]\n",
      " [1.  5.1 3.8]\n",
      " [1.  5.4 3.4]\n",
      " [1.  5.1 3.7]\n",
      " [1.  4.6 3.6]\n",
      " [1.  5.1 3.3]\n",
      " [1.  4.8 3.4]\n",
      " [1.  5.  3. ]\n",
      " [1.  5.  3.4]\n",
      " [1.  5.2 3.5]\n",
      " [1.  5.2 3.4]\n",
      " [1.  4.7 3.2]\n",
      " [1.  4.8 3.1]\n",
      " [1.  5.4 3.4]\n",
      " [1.  5.2 4.1]\n",
      " [1.  5.5 4.2]\n",
      " [1.  4.9 3.1]\n",
      " [1.  5.  3.2]\n",
      " [1.  5.5 3.5]\n",
      " [1.  4.9 3.1]\n",
      " [1.  4.4 3. ]\n",
      " [1.  5.1 3.4]\n",
      " [1.  5.  3.5]\n",
      " [1.  4.5 2.3]\n",
      " [1.  4.4 3.2]\n",
      " [1.  5.  3.5]\n",
      " [1.  5.1 3.8]\n",
      " [1.  4.8 3. ]\n",
      " [1.  5.1 3.8]\n",
      " [1.  4.6 3.2]\n",
      " [1.  5.3 3.7]\n",
      " [1.  5.  3.3]\n",
      " [1.  7.  3.2]\n",
      " [1.  6.4 3.2]\n",
      " [1.  6.9 3.1]\n",
      " [1.  5.5 2.3]\n",
      " [1.  6.5 2.8]\n",
      " [1.  5.7 2.8]\n",
      " [1.  6.3 3.3]\n",
      " [1.  4.9 2.4]\n",
      " [1.  6.6 2.9]\n",
      " [1.  5.2 2.7]\n",
      " [1.  5.  2. ]\n",
      " [1.  5.9 3. ]\n",
      " [1.  6.  2.2]\n",
      " [1.  6.1 2.9]\n",
      " [1.  5.6 2.9]\n",
      " [1.  6.7 3.1]\n",
      " [1.  5.6 3. ]\n",
      " [1.  5.8 2.7]\n",
      " [1.  6.2 2.2]\n",
      " [1.  5.6 2.5]\n",
      " [1.  5.9 3.2]\n",
      " [1.  6.1 2.8]\n",
      " [1.  6.3 2.5]\n",
      " [1.  6.1 2.8]\n",
      " [1.  6.4 2.9]\n",
      " [1.  6.6 3. ]\n",
      " [1.  6.8 2.8]\n",
      " [1.  6.7 3. ]\n",
      " [1.  6.  2.9]\n",
      " [1.  5.7 2.6]\n",
      " [1.  5.5 2.4]\n",
      " [1.  5.5 2.4]\n",
      " [1.  5.8 2.7]\n",
      " [1.  6.  2.7]\n",
      " [1.  5.4 3. ]\n",
      " [1.  6.  3.4]\n",
      " [1.  6.7 3.1]\n",
      " [1.  6.3 2.3]\n",
      " [1.  5.6 3. ]\n",
      " [1.  5.5 2.5]\n",
      " [1.  5.5 2.6]\n",
      " [1.  6.1 3. ]\n",
      " [1.  5.8 2.6]\n",
      " [1.  5.  2.3]\n",
      " [1.  5.6 2.7]\n",
      " [1.  5.7 3. ]\n",
      " [1.  5.7 2.9]\n",
      " [1.  6.2 2.9]\n",
      " [1.  5.1 2.5]\n",
      " [1.  5.7 2.8]\n",
      " [1.  6.3 3.3]\n",
      " [1.  5.8 2.7]\n",
      " [1.  7.1 3. ]\n",
      " [1.  6.3 2.9]\n",
      " [1.  6.5 3. ]\n",
      " [1.  7.6 3. ]\n",
      " [1.  4.9 2.5]\n",
      " [1.  7.3 2.9]\n",
      " [1.  6.7 2.5]\n",
      " [1.  7.2 3.6]\n",
      " [1.  6.5 3.2]\n",
      " [1.  6.4 2.7]\n",
      " [1.  6.8 3. ]\n",
      " [1.  5.7 2.5]\n",
      " [1.  5.8 2.8]\n",
      " [1.  6.4 3.2]\n",
      " [1.  6.5 3. ]\n",
      " [1.  7.7 3.8]\n",
      " [1.  7.7 2.6]\n",
      " [1.  6.  2.2]\n",
      " [1.  6.9 3.2]\n",
      " [1.  5.6 2.8]\n",
      " [1.  7.7 2.8]\n",
      " [1.  6.3 2.7]\n",
      " [1.  6.7 3.3]\n",
      " [1.  7.2 3.2]\n",
      " [1.  6.2 2.8]\n",
      " [1.  6.1 3. ]\n",
      " [1.  6.4 2.8]\n",
      " [1.  7.2 3. ]\n",
      " [1.  7.4 2.8]\n",
      " [1.  7.9 3.8]\n",
      " [1.  6.4 2.8]\n",
      " [1.  6.3 2.8]\n",
      " [1.  6.1 2.6]\n",
      " [1.  7.7 3. ]\n",
      " [1.  6.3 3.4]\n",
      " [1.  6.4 3.1]\n",
      " [1.  6.  3. ]\n",
      " [1.  6.9 3.1]\n",
      " [1.  6.7 3.1]\n",
      " [1.  6.9 3.1]\n",
      " [1.  5.8 2.7]\n",
      " [1.  6.8 3.2]\n",
      " [1.  6.7 3.3]\n",
      " [1.  6.7 3. ]\n",
      " [1.  6.3 2.5]\n",
      " [1.  6.5 3. ]\n",
      " [1.  6.2 3.4]\n",
      " [1.  5.9 3. ]]\n",
      "h:\n",
      "[[0.31326606]\n",
      " [0.43836002]\n",
      " [0.33632871]\n",
      " [0.35005588]\n",
      " [0.26877771]\n",
      " [0.24861197]\n",
      " [0.26229806]\n",
      " [0.32651504]\n",
      " [0.37824951]\n",
      " [0.40462227]\n",
      " [0.30381728]\n",
      " [0.29338007]\n",
      " [0.41937547]\n",
      " [0.32895316]\n",
      " [0.2820366 ]\n",
      " [0.17284666]\n",
      " [0.24861197]\n",
      " [0.31326606]\n",
      " [0.32408626]\n",
      " [0.23144697]\n",
      " [0.39797232]\n",
      " [0.25697761]\n",
      " [0.21233603]\n",
      " [0.37565055]\n",
      " [0.29338007]\n",
      " [0.45752677]\n",
      " [0.32651504]\n",
      " [0.33017871]\n",
      " [0.36147792]\n",
      " [0.33632871]\n",
      " [0.3860944 ]\n",
      " [0.39797232]\n",
      " [0.17683983]\n",
      " [0.19096123]\n",
      " [0.40462227]\n",
      " [0.39003943]\n",
      " [0.38347478]\n",
      " [0.40462227]\n",
      " [0.34628567]\n",
      " [0.3437849 ]\n",
      " [0.29683582]\n",
      " [0.60134246]\n",
      " [0.28653973]\n",
      " [0.29683582]\n",
      " [0.23144697]\n",
      " [0.41937547]\n",
      " [0.23144697]\n",
      " [0.31925118]\n",
      " [0.28767501]\n",
      " [0.35765239]\n",
      " [0.75085865]\n",
      " [0.65432247]\n",
      " [0.76207716]\n",
      " [0.76606677]\n",
      " [0.78062246]\n",
      " [0.65682116]\n",
      " [0.60399885]\n",
      " [0.6416905 ]\n",
      " [0.77001449]\n",
      " [0.59868664]\n",
      " [0.77099048]\n",
      " [0.62886512]\n",
      " [0.84712673]\n",
      " [0.69440765]\n",
      " [0.60664262]\n",
      " [0.73283753]\n",
      " [0.57317077]\n",
      " [0.70372484]\n",
      " [0.8661427 ]\n",
      " [0.72847669]\n",
      " [0.56230155]\n",
      " [0.72296736]\n",
      " [0.82193722]\n",
      " [0.72296736]\n",
      " [0.74141934]\n",
      " [0.74459149]\n",
      " [0.81785008]\n",
      " [0.75905191]\n",
      " [0.67771487]\n",
      " [0.71626372]\n",
      " [0.74035453]\n",
      " [0.74035453]\n",
      " [0.70372484]\n",
      " [0.73499854]\n",
      " [0.53488457]\n",
      " [0.51279273]\n",
      " [0.73283753]\n",
      " [0.8589227 ]\n",
      " [0.57317077]\n",
      " [0.71287541]\n",
      " [0.68373044]\n",
      " [0.66427093]\n",
      " [0.73175017]\n",
      " [0.68968514]\n",
      " [0.6704154 ]\n",
      " [0.5920187 ]\n",
      " [0.62497957]\n",
      " [0.71060503]\n",
      " [0.64550112]\n",
      " [0.65682116]\n",
      " [0.60399885]\n",
      " [0.70372484]\n",
      " [0.81115879]\n",
      " [0.7262823 ]\n",
      " [0.72957242]\n",
      " [0.86355585]\n",
      " [0.60928016]\n",
      " [0.85208056]\n",
      " [0.86290098]\n",
      " [0.66919469]\n",
      " [0.67163983]\n",
      " [0.79087402]\n",
      " [0.77294328]\n",
      " [0.74353522]\n",
      " [0.67407569]\n",
      " [0.65432247]\n",
      " [0.72957242]\n",
      " [0.69323514]\n",
      " [0.92246691]\n",
      " [0.84712673]\n",
      " [0.73607748]\n",
      " [0.63914217]\n",
      " [0.90020492]\n",
      " [0.77776425]\n",
      " [0.6752931 ]\n",
      " [0.77872149]\n",
      " [0.73822164]\n",
      " [0.66427093]\n",
      " [0.76705931]\n",
      " [0.82274756]\n",
      " [0.87728335]\n",
      " [0.72518369]\n",
      " [0.76705931]\n",
      " [0.75292303]\n",
      " [0.77487953]\n",
      " [0.87243481]\n",
      " [0.57046133]\n",
      " [0.68492865]\n",
      " [0.64676933]\n",
      " [0.76207716]\n",
      " [0.73283753]\n",
      " [0.76207716]\n",
      " [0.70372484]\n",
      " [0.72074552]\n",
      " [0.6752931 ]\n",
      " [0.75905191]\n",
      " [0.82193722]\n",
      " [0.72957242]\n",
      " [0.55137219]\n",
      " [0.62886512]]\n"
     ]
    },
    {
     "data": {
      "text/plain": [
       "(array([ 41,  50,  51,  52,  53,  54,  55,  56,  57,  58,  59,  60,  61,\n",
       "         62,  63,  64,  65,  66,  67,  68,  69,  70,  71,  72,  73,  74,\n",
       "         75,  76,  77,  78,  79,  80,  81,  82,  83,  84,  85,  86,  87,\n",
       "         88,  89,  90,  91,  92,  93,  94,  95,  96,  97,  98,  99, 100,\n",
       "        101, 102, 103, 104, 105, 106, 107, 108, 109, 110, 111, 112, 113,\n",
       "        114, 115, 116, 117, 118, 119, 120, 121, 122, 123, 124, 125, 126,\n",
       "        127, 128, 129, 130, 131, 132, 133, 134, 135, 136, 137, 138, 139,\n",
       "        140, 141, 142, 143, 144, 145, 146, 147, 148, 149], dtype=int64),\n",
       " array([0, 0, 0, 0, 0, 0, 0, 0, 0, 0, 0, 0, 0, 0, 0, 0, 0, 0, 0, 0, 0, 0,\n",
       "        0, 0, 0, 0, 0, 0, 0, 0, 0, 0, 0, 0, 0, 0, 0, 0, 0, 0, 0, 0, 0, 0,\n",
       "        0, 0, 0, 0, 0, 0, 0, 0, 0, 0, 0, 0, 0, 0, 0, 0, 0, 0, 0, 0, 0, 0,\n",
       "        0, 0, 0, 0, 0, 0, 0, 0, 0, 0, 0, 0, 0, 0, 0, 0, 0, 0, 0, 0, 0, 0,\n",
       "        0, 0, 0, 0, 0, 0, 0, 0, 0, 0, 0, 0, 0], dtype=int64))"
      ]
     },
     "execution_count": 31,
     "metadata": {},
     "output_type": "execute_result"
    }
   ],
   "source": [
    "# prueba de funcion predict\n",
    "y_pred = predict(X,best_theta)\n",
    "y_pred"
   ]
  },
  {
   "cell_type": "code",
   "execution_count": 32,
   "metadata": {},
   "outputs": [
    {
     "data": {
      "text/plain": [
       "<matplotlib.axes._subplots.AxesSubplot at 0x27b54f7d748>"
      ]
     },
     "execution_count": 32,
     "metadata": {},
     "output_type": "execute_result"
    },
    {
     "data": {
      "image/png": "[encoded data removed]",
      "text/plain": [
       "<Figure size 432x288 with 1 Axes>"
      ]
     },
     "metadata": {
      "needs_background": "light"
     },
     "output_type": "display_data"
    }
   ],
   "source": [
    "sns.lineplot(x=range(1,len(cost)+1),y=cost)"
   ]
  },
  {
   "cell_type": "markdown",
   "metadata": {},
   "source": [
    "### Regresión Logistica No Lineal\n",
    "\n",
    "Realice una regresion logistica con un polinomio de orden 5. Gráfique los datos y las regiones de decision de la misma forma qu een el caso anterior. ¿Qué puede concluir?"
   ]
  },
  {
   "cell_type": "markdown",
   "metadata": {},
   "source": [
    "## Clasificación Logistica Multiclase\n",
    "\n",
    "\n",
    "### Regresión lineal multiclase\n",
    "\n",
    "Realicé una regresion logistica lineal utilizando las mismas dos columnas de entrada, pero en este caso se requiere clasificar los tres tipos de flores en el dataset. Para lo cual debe realizar tres clasificadores y combinar sus salidas.\n",
    "\n",
    "Grafique los datos y las regiones de decision, para calcular las regiones de decision deben calcularlas para los tres clasificadores, y luego combinarlas de tal forma que la salida este determinada por el elemnto donde la probabilidad es mayor. Una vez hecho esto y se haya codificado esta información en una mattriz, ahi se puede gráficar como un mapa de calor.\n",
    "\n",
    "\n",
    "### Regresión no lineal multiclase (Tarea)\n",
    "\n",
    "Utilice todos los datos de entrada para el clasificador, implemente una regresion de orden 10. ¿Cómo podría representar las regiones de decisión en una gráfica? ¿Cómo evaluo que tan bueno es el modelo?\n",
    "\n",
    "\n",
    "### Toy Example\n",
    "\n",
    "Realiza una clasificación para las tres clases que se encuentran en el archivo Toy_example.csv. Las dos primeras columnas corresponden a las caracteristicas y la última columna corresponde al label de la clase. Al realizar la clasificación, grafique los datos y las regiones de decisión. Además realice une nueva gráfica donde no se grafique la probabilidad de las regiones de decisión, sino la clase a la qyue pertenece cada elemento, es decir un mapa de color con tres colores, uno para la clase 0, uno para la clase 1, y uno para la clase 2."
   ]
  },
  {
   "cell_type": "code",
   "execution_count": null,
   "metadata": {},
   "outputs": [],
   "source": []
  }
 ],
 "metadata": {
  "kernelspec": {
   "display_name": "Python 3",
   "language": "python",
   "name": "python3"
  },
  "language_info": {
   "codemirror_mode": {
    "name": "ipython",
    "version": 3
   },
   "file_extension": ".py",
   "mimetype": "text/x-python",
   "name": "python",
   "nbconvert_exporter": "python",
   "pygments_lexer": "ipython3",
   "version": "3.7.0"
  }
 },
 "nbformat": 4,
 "nbformat_minor": 2
}
